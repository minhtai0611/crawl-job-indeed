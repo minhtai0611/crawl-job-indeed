{
 "cells": [
  {
   "metadata": {
    "jupyter": {
     "is_executing": true
    }
   },
   "cell_type": "code",
   "source": [
    "from selenium.webdriver.common.by import By\n",
    "import undetected_chromedriver as uc\n",
    "from selenium.webdriver.support.wait import WebDriverWait\n",
    "import time\n",
    "import re\n",
    "from bs4 import BeautifulSoup\n",
    "from lxml import etree\n",
    "import pendulum\n",
    "\n",
    "driver = uc.Chrome()\n",
    "time.sleep(3)\n",
    "driver.get('https://www.indeed.com/')\n",
    "time.sleep(6)"
   ],
   "id": "1895e1df3beea50b",
   "outputs": [],
   "execution_count": null
  },
  {
   "metadata": {
    "jupyter": {
     "is_executing": true
    }
   },
   "cell_type": "code",
   "source": [
    "keyword_filter= \"data analyst\"\n",
    "location_filter = \"vietnam\"\n",
    "page_count_filter = \"2\"\n",
    "time.sleep(6)"
   ],
   "id": "cb0048cd60031f83",
   "outputs": [],
   "execution_count": null
  },
  {
   "metadata": {
    "ExecuteTime": {
     "end_time": "2025-01-07T09:10:23.184772200Z",
     "start_time": "2025-01-04T03:33:07.078160Z"
    }
   },
   "cell_type": "code",
   "source": [
    "search_job_keyword = driver.find_element(By.XPATH, '//input[@aria-label=\"search: Job title, keywords, or company\"]')\n",
    "time.sleep(3)\n",
    "search_job_keyword.click()\n",
    "time.sleep(3)\n",
    "search_job_keyword.send_keys(keyword_filter)\n",
    "time.sleep(3)\n",
    "search_location_keyword = driver.find_element(By.XPATH, '//input[@aria-label=\"Edit location\"]')\n",
    "time.sleep(3)\n",
    "search_location_keyword.click()\n",
    "time.sleep(3)\n",
    "search_location_keyword.send_keys(location_filter)\n",
    "time.sleep(3)\n",
    "search_button = driver.find_element(By.XPATH, '//button[@class=\"yosegi-InlineWhatWhere-primaryButton\"]')\n",
    "time.sleep(3)\n",
    "search_button.submit()\n",
    "time.sleep(6)"
   ],
   "id": "5511873664ac22b",
   "outputs": [],
   "execution_count": 3
  },
  {
   "metadata": {
    "ExecuteTime": {
     "end_time": "2025-01-07T09:10:23.186771200Z",
     "start_time": "2025-01-04T03:33:50.664714Z"
    }
   },
   "cell_type": "code",
   "source": [
    "def search_job_indeed():\n",
    "    global search_job_indeed_list, search_job_indeed_final_list, search_job_indeed_final_list_filter\n",
    "    search_job_indeed_final_list = []\n",
    "    time.sleep(3)\n",
    "    while True:\n",
    "        try:\n",
    "            job_indeed_frame = driver.find_elements(By.XPATH, '//div[@id=\"mosaic-provider-jobcards\"]/ul/li/div/div/div/div/div/div/table/tbody/tr/td[1]/div[1]/h2/a')\n",
    "            time.sleep(3)\n",
    "            search_job_indeed_list = list(set((job_indeed.get_attribute('href') for job_indeed in job_indeed_frame)))\n",
    "            time.sleep(3)\n",
    "            job_indeed_frame[-1].location_once_scrolled_into_view\n",
    "            time.sleep(6)\n",
    "        except:\n",
    "            print('No more job')\n",
    "            time.sleep(3)\n",
    "        search_job_indeed_final_list.extend(search_job_indeed_list)\n",
    "        time.sleep(3)\n",
    "        search_job_indeed_final_list = list(set(search_job_indeed_final_list))\n",
    "        time.sleep(3)\n",
    "        if (len(search_job_indeed_final_list) % 15 == 0 and len(search_job_indeed_final_list) // 15 == int(page_count_filter)) or (len(search_job_indeed_final_list) % 15 != 0 and len(search_job_indeed_final_list) // 15 + 1 == int(page_count_filter)):\n",
    "            break\n",
    "        try:\n",
    "            next_page_button = driver.find_elements(By.XPATH, '//nav[@aria-label=\"pagination\"]/ul/li/a')\n",
    "            time.sleep(3)\n",
    "            next_page_button[-1].click()\n",
    "            time.sleep(3)\n",
    "            yield len(search_job_indeed_final_list)\n",
    "        except:\n",
    "            print('No more page')\n",
    "            time.sleep(3)\n",
    "            break\n",
    "\n",
    "generators = search_job_indeed()\n",
    "for generator in generators:\n",
    "    print(generator)"
   ],
   "id": "4d156931d1bc2105",
   "outputs": [
    {
     "name": "stdout",
     "output_type": "stream",
     "text": [
      "15\n",
      "30\n",
      "30\n"
     ]
    }
   ],
   "execution_count": 4
  },
  {
   "metadata": {
    "ExecuteTime": {
     "end_time": "2025-01-07T09:10:23.188914Z",
     "start_time": "2025-01-04T03:35:37.358639Z"
    }
   },
   "cell_type": "code",
   "source": [
    "if len(search_job_indeed_final_list) % 15 == 0:\n",
    "    if len(search_job_indeed_final_list) == 0:\n",
    "        search_job_indeed_final_list_filter = []\n",
    "    elif len(search_job_indeed_final_list) // 15 + 1 < int(page_count_filter):\n",
    "        search_job_indeed_final_list_filter = search_job_indeed_final_list\n",
    "    else:\n",
    "        search_job_indeed_final_list_filter = search_job_indeed_final_list[:int(page_count_filter) * 15]\n",
    "else:\n",
    "    if len(search_job_indeed_final_list) // 15 + 1 < int(page_count_filter):\n",
    "        search_job_indeed_final_list_filter = search_job_indeed_final_list\n",
    "    elif len(search_job_indeed_final_list) // 15 + 1 == int(page_count_filter):\n",
    "        search_job_indeed_final_list_filter = search_job_indeed_final_list[:(int(page_count_filter) - 1) * 15 + len(search_job_indeed_final_list) % 15]\n",
    "    else:\n",
    "        search_job_indeed_final_list_filter = search_job_indeed_final_list[:int(page_count_filter) * 15]"
   ],
   "id": "85b31fcd93816fea",
   "outputs": [],
   "execution_count": 5
  },
  {
   "metadata": {
    "ExecuteTime": {
     "end_time": "2025-01-07T09:10:23.191151900Z",
     "start_time": "2025-01-04T03:35:37.428780Z"
    }
   },
   "cell_type": "code",
   "source": "len(search_job_indeed_final_list_filter)",
   "id": "cac9fb6ed5828a3d",
   "outputs": [
    {
     "data": {
      "text/plain": [
       "45"
      ]
     },
     "execution_count": 6,
     "metadata": {},
     "output_type": "execute_result"
    }
   ],
   "execution_count": 6
  },
  {
   "metadata": {
    "ExecuteTime": {
     "end_time": "2025-01-07T09:10:23.191694200Z",
     "start_time": "2025-01-04T03:35:37.477181Z"
    }
   },
   "cell_type": "code",
   "source": [
    "def get_job_indeed_description():\n",
    "        global job_indeed_description_list\n",
    "        job_indeed_description_list = []\n",
    "        for _, job_indeed_url in enumerate(search_job_indeed_final_list_filter):\n",
    "            driver.get(job_indeed_url)\n",
    "            time.sleep(6)\n",
    "            try:\n",
    "                    company = driver.find_element(By.XPATH, '//div[@data-testid=\"jobsearch-CompanyInfoContainer\"]/div/div/div/div/div[1]/span/a').text\n",
    "                    time.sleep(3)\n",
    "                    sub_company = driver.find_element(By.XPATH, '//div[@data-testid=\"jobsearch-CompanyInfoContainer\"]/div/div/div/div/div[2]/span').text\n",
    "                    time.sleep(3)\n",
    "                    if len(re.findall(r'\\b\\d+\\.\\d+\\b', sub_company)) > 0:\n",
    "                        total_company = company\n",
    "                    else:\n",
    "                        total_company = company + ' ' + sub_company\n",
    "                    time.sleep(3)\n",
    "            except:\n",
    "                    try:\n",
    "                            time.sleep(3)\n",
    "                            total_company = driver.find_element(By.XPATH, '//div[@data-testid=\"jobsearch-CompanyInfoContainer\"]/div/div/div/div/div[1]/span/a').text\n",
    "                            time.sleep(3)\n",
    "                    except:\n",
    "                            try:\n",
    "                                    time.sleep(3)\n",
    "                                    total_company = driver.find_element(By.XPATH, '//div[@data-testid=\"jobsearch-CompanyInfoContainer\"]/div/div/div/div/div[1]/span').text\n",
    "                                    time.sleep(3)\n",
    "                            except:\n",
    "                                    time.sleep(3)\n",
    "                                    total_company = ''\n",
    "                                    time.sleep(3)\n",
    "            try:\n",
    "                    header = driver.find_element(By.XPATH, '//div[starts-with(@class,\"jobsearch-JobInfoHeader-title-container\")]/h1/span').text\n",
    "                    time.sleep(3)\n",
    "            except:\n",
    "                    time.sleep(3)\n",
    "                    header = ''\n",
    "                    time.sleep(3)\n",
    "            try:\n",
    "                location = driver.find_element(By.XPATH, '//div[@data-testid=\"jobsearch-CompanyInfoContainer\"]/div/div/div/div[2]/div').text\n",
    "                time.sleep(3)\n",
    "            except:\n",
    "                time.sleep(3)\n",
    "                location = ''\n",
    "                time.sleep(3)\n",
    "            try:\n",
    "                    soup = BeautifulSoup(driver.page_source, 'lxml')\n",
    "                    time.sleep(3)\n",
    "                    script_context = soup.find_all('script', string=re.compile(r'@context'))[0]\n",
    "                    time.sleep(3)\n",
    "                    standard_date_posted = re.search('\\\"datePosted\\\":\\\"([^\"]+)\\\"', script_context).group(1)\n",
    "                    time.sleep(3)\n",
    "                    readable_date_posted = pendulum.from_timestamp(int(standard_date_posted), tz='Asia/Ho_Chi_Minh').to_datetime_string()\n",
    "                    time.sleep(3)\n",
    "            except:\n",
    "                try:\n",
    "                        soup = BeautifulSoup(driver.page_source, 'lxml')\n",
    "                        time.sleep(3)\n",
    "                        script_context = soup.find_all('script', string=re.compile(r'window._initialData'))[0]\n",
    "                        time.sleep(3)\n",
    "                        standard_date_posted = re.search('\\\"datePublished\\\":\\\"([^\"]+)\\\"', script_context).group(1)\n",
    "                        time.sleep(3)\n",
    "                        readable_date_posted = pendulum.from_timestamp(int(standard_date_posted) / 1000, tz='Asia/Ho_Chi_Minh').to_datetime_string()\n",
    "                        time.sleep(3)\n",
    "                except:\n",
    "                        time.sleep(3)\n",
    "                        readable_date_posted = ''\n",
    "                        time.sleep(3)\n",
    "            try:\n",
    "                    soup = BeautifulSoup(driver.page_source, 'lxml')\n",
    "                    time.sleep(3)\n",
    "                    script_initial_data = soup.find_all('script', string=re.compile(r'window._initialData'))[0]\n",
    "                    time.sleep(3)\n",
    "                    salary = re.search('\\\"salaryText\\\":\\\"([^\"]+)\\\"', script_initial_data).group(1)\n",
    "                    time.sleep(3)\n",
    "            except:\n",
    "                    time.sleep(3)\n",
    "                    salary = ''\n",
    "                    time.sleep(3)\n",
    "            job_indeed_description_list.append((job_indeed_url, total_company, header, location, readable_date_posted, salary))\n",
    "            yield total_company, header, location, readable_date_posted, salary\n",
    "generators = get_job_indeed_description()\n",
    "for generator in generators:\n",
    "    print(generator)"
   ],
   "id": "a5ee7a0298e367d6",
   "outputs": [
    {
     "name": "stdout",
     "output_type": "stream",
     "text": [
      "('Thương Mại IMexco Việt Nam', 'Chuyên Viên Data Analyst', 'Thành phố Hồ Chí Minh')\n",
      "('Chứng Khoán Thiên Việt', 'DATA ANALYST – DATA TEAM', 'Thành phố Hồ Chí Minh')\n",
      "('Concung.com', 'Data Analyst - Business Intelligence', 'Thành phố Hồ Chí Minh')\n",
      "('ITviec', 'Data Analyst', 'Thành phố Hồ Chí Minh')\n",
      "('Heineken International B.V.', 'Digital Business Analyst', 'Thành phố Hồ Chí Minh')\n",
      "('Mossad (Vietnam) Co., Ltd.', 'Field IT Analyst', 'Thành phố Hồ Chí Minh')\n",
      "('VNG', 'Associate Data Analyst, Zalopay', 'Thành phố Hồ Chí Minh')\n",
      "('AhaMove', 'Data Analyst (Senior)', 'Thành phố Hồ Chí Minh')\n",
      "('Bosch Group', '[BDO] Data Analyst and Project Assistant', 'Thành phố Hồ Chí Minh')\n",
      "('Deloitte', 'SR&T Analyst, M&A Transaction Diligence, Execution & Reporting', 'Thành phố Hồ Chí Minh')\n",
      "('Công Ty TNHH Asia Clean Capital Việt Nam', 'Financial Analyst', 'Thành phố Hồ Chí Minh')\n",
      "('Deloitte', 'T&T Graduate Analyst Program - Oracle (IT / Database) - Feb 2025 Intake', 'Hà Nội')\n",
      "('Confluence Technologies', 'Market Data Administrator', 'Remote')\n",
      "('OPSWAT', 'Data Quality Analyst (Salesforce platform experience)', 'Thành phố Hồ Chí Minh')\n",
      "('VNG', 'Business Intelligence Analyst - VNGGames', 'Thành phố Hồ Chí Minh')\n",
      "('VeXeRe', 'HCM – Data Analyst Intern', 'Thành phố Hồ Chí Minh')\n",
      "('Công Ty TNHH ELSA', 'Business Intelligence (Data Analyst)', 'Thành phố Hồ Chí Minh')\n",
      "('Công Ty TNHH Thương Mại Want Want Việt Nam', 'Data Analyst Admin', 'Thành phố Hồ Chí Minh')\n",
      "('Wolf Solutions', 'Data Analyst Intern', 'Thành phố Hồ Chí Minh')\n",
      "('Công ty Tài chính Đất Xanh - Một thành viên trong hệ sinh thái của Tập đoàn Đất Xanh', 'Nhân Viên Data Analyst', 'Thành phố Hồ Chí Minh')\n",
      "('Callaway', 'Associate Data Analyst', 'Việt Nam')\n",
      "('Helius Technologies', 'Production Data Support Analyst', 'Việt Nam')\n",
      "('Customized Energy Solutions', 'Data Operations Analyst – Retail Market Services - HCMC', 'Thành phố Hồ Chí Minh')\n",
      "('HDWEBSOFT', 'BUSINESS ANALYST: Tech & Non-tech IT BA', 'Thành phố Hồ Chí Minh')\n",
      "('KeyTiger', 'Ecommerce Account Analyst - Work From Home - Virtual Assistant', 'Hà Nội')\n",
      "('AhaMove', 'Financial Analyst', 'Thành phố Hồ Chí Minh')\n",
      "('Disney', 'Quality Assurance Analyst, Consumer Products', 'Thành phố Hồ Chí Minh')\n",
      "('LARION JSC', 'Supply Solution Implement Intern', 'Thành phố Hồ Chí Minh')\n",
      "('DFO Global Performance Commerce Limited', 'E-commerce Data Analyst', 'Thành phố Hồ Chí Minh')\n",
      "('Buzzmetrics', 'Marketing Data Analyst (Part-time)', 'Thành phố Hồ Chí Minh')\n",
      "('GP Tech', 'VT Business Analyst (Remote)', 'Thành phố Hồ Chí Minh')\n",
      "('Công Ty TNHH Document Easy', 'Phân Tích Nghiệp Vụ (Business Analyst - Ba)', 'Thành phố Hồ Chí Minh')\n",
      "('Avery Dennison', 'Data Analyst', 'Thành phố Hồ Chí Minh')\n",
      "('TechX Corporation', 'AI/ML Engineer (Generative AI - Fine-Tuning and Prompt...', 'Thành phố Hồ Chí Minh')\n",
      "('VIB', 'CRM Data Analyst', 'Thành phố Hồ Chí Minh')\n",
      "('CyberLogitec Vietnam', 'Data Analyst (Junior/Senior)', 'Thành phố Hồ Chí Minh')\n",
      "('Công ty TNHH Esuhai', 'Chuyên viên phân tích dữ liệu - Data analyst', 'Thành phố Hồ Chí Minh')\n",
      "('Portcast', 'Data Analyst', 'Remote')\n",
      "('Wizy', 'Conversion Rate Optimization (CRO) Specialist / Data Analyst', 'Thành phố Hồ Chí Minh')\n",
      "('Công Ty Cổ Phần ITR VN', '[Intern] – Business Analyst Intern', 'Thành phố Hồ Chí Minh')\n",
      "('Concung.com', 'Data Engineer', 'Thành phố Hồ Chí Minh')\n",
      "('VinaCapital', 'Fixed Income Analyst', 'Thành phố Hồ Chí Minh')\n",
      "('Wolf Solutions', 'Intern BA', 'Thành phố Hồ Chí Minh')\n",
      "('wolf consulting', 'Data Analyst Intern', 'Thành phố Hồ Chí Minh')\n",
      "('LARION Consulting & Software Development Joint Stock Company', 'Business Analyst Intern', 'Thành phố Hồ Chí Minh')\n"
     ]
    }
   ],
   "execution_count": 7
  },
  {
   "metadata": {
    "ExecuteTime": {
     "end_time": "2025-01-07T09:10:23.192680700Z",
     "start_time": "2025-01-04T03:55:39.350921Z"
    }
   },
   "cell_type": "code",
   "source": "len(job_indeed_description_list)",
   "id": "a4390f179d839de4",
   "outputs": [
    {
     "data": {
      "text/plain": [
       "45"
      ]
     },
     "execution_count": 11,
     "metadata": {},
     "output_type": "execute_result"
    }
   ],
   "execution_count": 11
  }
 ],
 "metadata": {
  "kernelspec": {
   "display_name": "Python 3",
   "language": "python",
   "name": "python3"
  },
  "language_info": {
   "codemirror_mode": {
    "name": "ipython",
    "version": 2
   },
   "file_extension": ".py",
   "mimetype": "text/x-python",
   "name": "python",
   "nbconvert_exporter": "python",
   "pygments_lexer": "ipython2",
   "version": "2.7.6"
  }
 },
 "nbformat": 4,
 "nbformat_minor": 5
}
