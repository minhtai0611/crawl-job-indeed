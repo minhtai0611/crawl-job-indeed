{
 "cells": [
  {
   "metadata": {
    "ExecuteTime": {
     "end_time": "2025-01-12T00:45:33.379924Z",
     "start_time": "2025-01-12T00:45:00.568638Z"
    }
   },
   "cell_type": "code",
   "source": [
    "from selenium.webdriver.common.by import By\n",
    "import undetected_chromedriver as uc\n",
    "from selenium.webdriver.support.wait import WebDriverWait\n",
    "from selenium.webdriver.common.keys import Keys\n",
    "from selenium.webdriver.common.action_chains import ActionChains\n",
    "import time\n",
    "import re\n",
    "from bs4 import BeautifulSoup\n",
    "from lxml import etree\n",
    "import pendulum\n",
    "import operator as op\n",
    "\n",
    "driver = uc.Chrome()\n",
    "time.sleep(3)\n",
    "driver.get('https://www.indeed.com/q-usa-jobs.html')\n",
    "time.sleep(6)"
   ],
   "id": "1895e1df3beea50b",
   "outputs": [],
   "execution_count": 1
  },
  {
   "metadata": {
    "ExecuteTime": {
     "end_time": "2025-01-12T01:03:32.143326Z",
     "start_time": "2025-01-12T01:03:29.129502Z"
    }
   },
   "cell_type": "code",
   "source": [
    "keyword_filter= \"chief\"\n",
    "location_filter = \"california\"\n",
    "page_count_filter = \"1\"\n",
    "salary_filter = \"200000.069 $ year\"\n",
    "start_date_posted_filter = \"2024-07-01 00:00:00\"\n",
    "end_date_posted_filter = \"2025-01-31 23:59:59\"\n",
    "time.sleep(3)"
   ],
   "id": "cb0048cd60031f83",
   "outputs": [],
   "execution_count": 17
  },
  {
   "metadata": {
    "ExecuteTime": {
     "end_time": "2025-01-12T00:46:12.159415Z",
     "start_time": "2025-01-12T00:45:36.902354Z"
    }
   },
   "cell_type": "code",
   "source": [
    "search_job_keyword = driver.find_element(By.XPATH, '//input[@aria-label=\"search: Job title, keywords, or company\"]')\n",
    "time.sleep(3)\n",
    "search_job_keyword.click()\n",
    "time.sleep(3)\n",
    "actions = ActionChains(driver)\n",
    "time.sleep(3)\n",
    "actions.key_down(Keys.CONTROL).send_keys('A').key_up(Keys.CONTROL).send_keys(Keys.BACK_SPACE).perform()\n",
    "time.sleep(3)\n",
    "search_job_keyword.send_keys(keyword_filter)\n",
    "time.sleep(3)\n",
    "search_location_keyword = driver.find_element(By.XPATH, '//input[@aria-label=\"Edit location\"]')\n",
    "time.sleep(3)\n",
    "search_location_keyword.click()\n",
    "time.sleep(3)\n",
    "search_location_keyword.send_keys(location_filter)\n",
    "time.sleep(3)\n",
    "search_button = driver.find_element(By.XPATH, '//button[@class=\"yosegi-InlineWhatWhere-primaryButton\"]')\n",
    "time.sleep(3)\n",
    "search_button.submit()\n",
    "time.sleep(6)"
   ],
   "id": "5511873664ac22b",
   "outputs": [],
   "execution_count": 3
  },
  {
   "metadata": {
    "ExecuteTime": {
     "end_time": "2025-01-12T00:46:33.518516Z",
     "start_time": "2025-01-12T00:46:12.198967Z"
    }
   },
   "cell_type": "code",
   "source": [
    "def search_job_indeed():\n",
    "    global search_job_indeed_list, search_job_indeed_final_list, search_job_indeed_final_list_filter\n",
    "    search_job_indeed_final_list = []\n",
    "    time.sleep(3)\n",
    "    while True:\n",
    "        try:\n",
    "            job_indeed_frame = driver.find_elements(By.XPATH, '//div[@id=\"mosaic-provider-jobcards\"]/ul/li/div/div/div/div/div/div/table/tbody/tr/td[1]/div[1]/h2/a')\n",
    "            time.sleep(3)\n",
    "            search_job_indeed_list = list(set((job_indeed.get_attribute('href') for job_indeed in job_indeed_frame)))\n",
    "            time.sleep(3)\n",
    "            job_indeed_frame[-1].location_once_scrolled_into_view\n",
    "            time.sleep(6)\n",
    "        except:\n",
    "            print('No more job')\n",
    "            time.sleep(3)\n",
    "        search_job_indeed_final_list.extend(search_job_indeed_list)\n",
    "        time.sleep(3)\n",
    "        search_job_indeed_final_list = list(set(search_job_indeed_final_list))\n",
    "        time.sleep(3)\n",
    "        if (len(search_job_indeed_final_list) % 15 == 0 and len(search_job_indeed_final_list) // 15 == int(page_count_filter)) or (len(search_job_indeed_final_list) % 15 != 0 and len(search_job_indeed_final_list) // 15 + 1 == int(page_count_filter)):\n",
    "            break\n",
    "        try:\n",
    "            next_page_button = driver.find_elements(By.XPATH, '//nav[@aria-label=\"pagination\"]/ul/li/a')\n",
    "            time.sleep(3)\n",
    "            next_page_button[-1].click()\n",
    "            time.sleep(3)\n",
    "            yield len(search_job_indeed_final_list)\n",
    "        except:\n",
    "            print('No more page')\n",
    "            time.sleep(3)\n",
    "            break\n",
    "\n",
    "generators = search_job_indeed()\n",
    "for generator in generators:\n",
    "    print(generator)"
   ],
   "id": "4d156931d1bc2105",
   "outputs": [],
   "execution_count": 4
  },
  {
   "metadata": {
    "ExecuteTime": {
     "end_time": "2025-01-12T00:46:33.555106Z",
     "start_time": "2025-01-12T00:46:33.543861Z"
    }
   },
   "cell_type": "code",
   "source": [
    "if len(search_job_indeed_final_list) % 15 == 0:\n",
    "    if len(search_job_indeed_final_list) == 0:\n",
    "        search_job_indeed_final_list_filter = []\n",
    "    elif len(search_job_indeed_final_list) // 15 + 1 < int(page_count_filter):\n",
    "        search_job_indeed_final_list_filter = search_job_indeed_final_list\n",
    "    else:\n",
    "        search_job_indeed_final_list_filter = search_job_indeed_final_list[:int(page_count_filter) * 15]\n",
    "else:\n",
    "    if len(search_job_indeed_final_list) // 15 + 1 < int(page_count_filter):\n",
    "        search_job_indeed_final_list_filter = search_job_indeed_final_list\n",
    "    elif len(search_job_indeed_final_list) // 15 + 1 == int(page_count_filter):\n",
    "        search_job_indeed_final_list_filter = search_job_indeed_final_list[:(int(page_count_filter) - 1) * 15 + len(search_job_indeed_final_list) % 15]\n",
    "    else:\n",
    "        search_job_indeed_final_list_filter = search_job_indeed_final_list[:int(page_count_filter) * 15]"
   ],
   "id": "85b31fcd93816fea",
   "outputs": [],
   "execution_count": 5
  },
  {
   "metadata": {
    "ExecuteTime": {
     "end_time": "2025-01-12T00:46:33.633646Z",
     "start_time": "2025-01-12T00:46:33.609003Z"
    }
   },
   "cell_type": "code",
   "source": "len(search_job_indeed_final_list_filter)",
   "id": "cac9fb6ed5828a3d",
   "outputs": [
    {
     "data": {
      "text/plain": [
       "15"
      ]
     },
     "execution_count": 6,
     "metadata": {},
     "output_type": "execute_result"
    }
   ],
   "execution_count": 6
  },
  {
   "metadata": {
    "ExecuteTime": {
     "end_time": "2025-01-12T00:57:36.859599Z",
     "start_time": "2025-01-12T00:46:33.778976Z"
    }
   },
   "cell_type": "code",
   "source": [
    "def get_job_indeed_description():\n",
    "        global job_indeed_description_list\n",
    "        job_indeed_description_list = []\n",
    "        for _, job_indeed_url in enumerate(search_job_indeed_final_list_filter):\n",
    "            driver.get(job_indeed_url)\n",
    "            time.sleep(6)\n",
    "            try:\n",
    "                    company = driver.find_element(By.XPATH, '//div[@data-testid=\"jobsearch-CompanyInfoContainer\"]/div/div/div/div/div[1]/span/a').text\n",
    "                    time.sleep(3)\n",
    "                    sub_company = driver.find_element(By.XPATH, '//div[@data-testid=\"jobsearch-CompanyInfoContainer\"]/div/div/div/div/div[2]/span').text\n",
    "                    time.sleep(3)\n",
    "                    if len(re.findall(r'\\b\\d+\\.\\d+\\b', sub_company)) > 0:\n",
    "                        total_company = company\n",
    "                    else:\n",
    "                        total_company = company + ' ' + sub_company\n",
    "                    time.sleep(3)\n",
    "            except:\n",
    "                    try:\n",
    "                            time.sleep(3)\n",
    "                            total_company = driver.find_element(By.XPATH, '//div[@data-testid=\"jobsearch-CompanyInfoContainer\"]/div/div/div/div/div[1]/span/a').text\n",
    "                            time.sleep(3)\n",
    "                    except:\n",
    "                            try:\n",
    "                                    time.sleep(3)\n",
    "                                    total_company = driver.find_element(By.XPATH, '//div[@data-testid=\"jobsearch-CompanyInfoContainer\"]/div/div/div/div/div[1]/span').text\n",
    "                                    time.sleep(3)\n",
    "                            except:\n",
    "                                    try:\n",
    "                                            time.sleep(3)\n",
    "                                            total_company = driver.find_element(By.XPATH, '//div[starts-with(@class, \"jobsearch-InfoHeaderContainer\")]/div/div/h2').text\n",
    "                                            time.sleep(3)\n",
    "                                    except:\n",
    "                                            try:\n",
    "                                                    time.sleep(3)\n",
    "                                                    total_company = driver.find_element(By.XPATH, '//div[starts-with(@class, \"jobsearch-InfoHeaderContainer\")]/div/div/h2').text\n",
    "                                                    time.sleep(3)\n",
    "                                            except:\n",
    "                                                    time.sleep(3)\n",
    "                                                    total_company = ''\n",
    "                                                    time.sleep(3)\n",
    "            try:\n",
    "                    header = driver.find_element(By.XPATH, '//div[starts-with(@class,\"jobsearch-JobInfoHeader-title-container\")]/h1/span').text\n",
    "                    time.sleep(3)\n",
    "            except:\n",
    "                    try:\n",
    "                            time.sleep(3)\n",
    "                            header = driver.find_element(By.XPATH, '//div[starts-with(@class, \"jobsearch-InfoHeaderContainer\")]/div/div/div/span').text\n",
    "                            time.sleep(3)\n",
    "                    except:\n",
    "                            time.sleep(3)\n",
    "                            header = ''\n",
    "                            time.sleep(3)\n",
    "            try:\n",
    "                    location = driver.find_element(By.XPATH, '//div[@data-testid=\"jobsearch-CompanyInfoContainer\"]/div/div/div/div[2]/div').text\n",
    "                    time.sleep(3)\n",
    "            except:\n",
    "                    try:\n",
    "                            time.sleep(3)\n",
    "                            location = driver.find_element(By.XPATH, '//div[starts-with(@class, \"jobsearch-InfoHeaderContainer\")]/div/div/div/div[2]/div').text\n",
    "                            time.sleep(3)\n",
    "                    except:\n",
    "                            try:\n",
    "                                time.sleep(3)\n",
    "                                location = driver.find_element(By.XPATH, '//div[starts-with(@class, \"jobsearch-InfoHeaderContainer\")]/div/div[2]/div/div/div/div[2]/div').text\n",
    "                                time.sleep(3)\n",
    "                            except:\n",
    "                                    time.sleep(3)\n",
    "                                    location = ''\n",
    "                                    time.sleep(3)\n",
    "            try:\n",
    "                soup = BeautifulSoup(driver.page_source, 'lxml')\n",
    "                time.sleep(3)\n",
    "                script_context = soup.find_all('script', string=re.compile(r'@context'))[0].getText().strip()\n",
    "                time.sleep(3)\n",
    "                standard_date_posted = re.search(r'\\\"datePosted\\\":\\\"([^\"]+)\\\"', script_context).group(1)\n",
    "                time.sleep(3)\n",
    "                readable_date_posted = pendulum.parse(standard_date_posted, tz='Asia/Ho_Chi_Minh').to_datetime_string()\n",
    "                time.sleep(3)\n",
    "            except:\n",
    "                try:\n",
    "                    soup = BeautifulSoup(driver.page_source, 'lxml')\n",
    "                    time.sleep(3)\n",
    "                    script_initial_data = soup.find_all('script', string=re.compile(r'window._initialData'))[0].getText().strip()\n",
    "                    time.sleep(3)\n",
    "                    standard_date_posted = re.search(r'\\\"datePublished\\\":(\\d+)', script_initial_data).group(1)\n",
    "                    time.sleep(3)\n",
    "                    readable_date_posted = pendulum.from_timestamp(int(standard_date_posted) / 1000, tz='Asia/Ho_Chi_Minh').to_datetime_string()\n",
    "                    time.sleep(3)\n",
    "                except:\n",
    "                        time.sleep(3)\n",
    "                        readable_date_posted = ''\n",
    "                        time.sleep(3)\n",
    "            try:\n",
    "                soup = BeautifulSoup(driver.page_source, 'lxml')\n",
    "                time.sleep(3)\n",
    "                script_initial_data = soup.find_all('script', string=re.compile(r'window._initialData'))[0].getText().strip()\n",
    "                time.sleep(3)\n",
    "                salary = re.search(r'\\\"salaryText\\\":\\\"([^\"]+)\\\"', script_initial_data).group(1)\n",
    "                time.sleep(3)\n",
    "            except:\n",
    "                    time.sleep(3)\n",
    "                    salary = ''\n",
    "                    time.sleep(3)\n",
    "            job_indeed_description_list.append((job_indeed_url, total_company, header, salary, location, readable_date_posted))\n",
    "            yield total_company, header, location, readable_date_posted, salary\n",
    "generators = get_job_indeed_description()\n",
    "for generator in generators:\n",
    "    print(generator)"
   ],
   "id": "a5ee7a0298e367d6",
   "outputs": [
    {
     "name": "stdout",
     "output_type": "stream",
     "text": [
      "('Chai', 'Chief of Staff', 'Palo Alto, CA', '2024-09-17 00:39:21', '$205,000 - $275,000 a year')\n",
      "('LA Philharmonic', 'Chief Philanthropy Officer', 'Los Angeles, CA', '2024-12-02 22:58:01', '$400,000 - $450,000 a year')\n",
      "('Proper Hospitality LLC', 'Chief of Staff', '225 Arizona Avenue, Santa Monica, CA 90401', '2025-01-10 08:58:04', '$225,000 - $275,000 a year')\n",
      "('City of Fountain Valley, CA', 'Chief of Police', 'Fountain Valley, CA', '2024-07-05 21:44:48', '$218,220.88 - $265,248.85 a year')\n",
      "('California State University', 'Vice President of Equity and Inclusion & Chief Diversity Officer', '18111 Nordhoff St, Northridge, CA 91330', '2024-11-12 20:49:11', '$245,000 - $255,000 a year')\n",
      "('Cella', 'CHIEF OF STAFF- CMO', 'San Francisco, CA', '2024-11-13 15:38:08', '$105 - $110 an hour')\n",
      "('UCSF Health', 'Chief Dosimetrist', 'San Francisco, CA', '2024-04-30 22:29:54', '')\n",
      "('LPL Financial', 'SVP, Chief of Staff', '4707 Executive Dr, San Diego, CA 92121', '2024-12-23 17:37:01', '$167,500 - $279,100 a year')\n",
      "('Kaiser Permanente', 'Associate Chief Administrative Officer', 'Vacaville, CA', '2024-11-12 16:01:59', '$222,300 - $287,650 a year')\n",
      "('Deep 6 AI', 'Chief Operating Officer', 'Pasadena, CA', '2024-11-12 05:10:08', '$220,000 - $260,000 a year')\n",
      "('City of Manhattan Beach, CA', 'Fire Chief', '400 15th Street, Manhattan Beach, CA 90266', '2025-01-01 18:54:10', '$247,800 - $321,000 a year')\n",
      "('City of Burbank, CA', 'POLICE CHIEF', 'Burbank, CA', '2024-12-20 02:16:42', '')\n",
      "('Bill.com', 'Chief of Staff', 'San Jose, CA', '2025-01-07 23:07:29', '$197,600 - $247,500 a year')\n",
      "('Atlassian', 'Chief of Staff to Head of Data', 'San Francisco, CA 94104', '2024-10-02 08:59:33', '$154,700 - $248,400 a year')\n",
      "('Health Net', 'Chief Operating Officer.', 'California', '2025-01-09 21:20:20', '$231,900 - $440,500 a year')\n"
     ]
    }
   ],
   "execution_count": 7
  },
  {
   "metadata": {
    "ExecuteTime": {
     "end_time": "2025-01-12T00:57:37.188047Z",
     "start_time": "2025-01-12T00:57:37.165755Z"
    }
   },
   "cell_type": "code",
   "source": "len(job_indeed_description_list)",
   "id": "a4390f179d839de4",
   "outputs": [
    {
     "data": {
      "text/plain": [
       "15"
      ]
     },
     "execution_count": 8,
     "metadata": {},
     "output_type": "execute_result"
    }
   ],
   "execution_count": 8
  },
  {
   "metadata": {
    "ExecuteTime": {
     "end_time": "2025-01-12T00:57:51.389905Z",
     "start_time": "2025-01-12T00:57:37.255583Z"
    }
   },
   "cell_type": "code",
   "source": [
    "from googleapiclient.discovery import build\n",
    "from googleapiclient.errors import HttpError\n",
    "from google.oauth2 import service_account\n",
    "import pandas as pd\n",
    "\n",
    "credentials = service_account.Credentials.from_service_account_file('credentials.json')\n",
    "spreadsheet_service = build('sheets', 'v4', credentials=credentials)\n",
    "\n",
    "SPREADSHEET_ID = '1F75bELM8_nYQvFBVqReVUZYcPGuuELIa4nh9MJoS9Tg'\n",
    "RANGE_NAME = 'Sheet1'\n",
    "sheet = spreadsheet_service.spreadsheets()\n",
    "result = sheet.values().get(spreadsheetId=SPREADSHEET_ID, range=RANGE_NAME).execute()\n",
    "values = result.get('values', [])\n",
    "max_cols = max(len(row) for row in values)\n",
    "values = [row + [''] * (max_cols - len(row)) for row in values]\n",
    "df = pd.DataFrame(values[1:], columns=values[0])\n",
    "df = df.fillna('')"
   ],
   "id": "aab379cf81ef9b1b",
   "outputs": [],
   "execution_count": 9
  },
  {
   "metadata": {
    "ExecuteTime": {
     "end_time": "2025-01-12T00:57:52.674555Z",
     "start_time": "2025-01-12T00:57:52.115796Z"
    }
   },
   "cell_type": "code",
   "source": [
    "cleared_values = {\n",
    "    \"requests\": [\n",
    "        {\n",
    "            \"updateCells\": {\n",
    "                \"range\": {\n",
    "                    \"sheetId\": 0,\n",
    "                    \"startRowIndex\": 1,\n",
    "                    \"endRowIndex\": None,\n",
    "                    \"startColumnIndex\": 0,\n",
    "                    \"endColumnIndex\": 6\n",
    "                },\n",
    "                \"fields\": \"userEnteredValue\"\n",
    "            }\n",
    "        }\n",
    "    ]\n",
    "}\n",
    "spreadsheet_service.spreadsheets().batchUpdate(spreadsheetId=SPREADSHEET_ID, body=cleared_values).execute()"
   ],
   "id": "7b53224c9dc18b19",
   "outputs": [
    {
     "data": {
      "text/plain": [
       "{'spreadsheetId': '1F75bELM8_nYQvFBVqReVUZYcPGuuELIa4nh9MJoS9Tg',\n",
       " 'replies': [{}]}"
      ]
     },
     "execution_count": 10,
     "metadata": {},
     "output_type": "execute_result"
    }
   ],
   "execution_count": 10
  },
  {
   "metadata": {
    "ExecuteTime": {
     "end_time": "2025-01-12T01:14:54.843504Z",
     "start_time": "2025-01-12T01:14:54.832067Z"
    }
   },
   "cell_type": "code",
   "source": [
    "df1 = pd.DataFrame(job_indeed_description_list, columns=df.columns).__deepcopy__()\n",
    "df1"
   ],
   "id": "982272decfbf3da0",
   "outputs": [
    {
     "data": {
      "text/plain": [
       "                                                 Link  \\\n",
       "0   https://www.indeed.com/rc/clk?jk=2b5742e906877...   \n",
       "1   https://www.indeed.com/rc/clk?jk=68fec70c777f3...   \n",
       "2   https://www.indeed.com/rc/clk?jk=8ccc1e500fb3b...   \n",
       "3   https://www.indeed.com/rc/clk?jk=afbb4c1dbef98...   \n",
       "4   https://www.indeed.com/rc/clk?jk=6eeebde66863d...   \n",
       "5   https://www.indeed.com/rc/clk?jk=f0f00697ee9cf...   \n",
       "6   https://www.indeed.com/rc/clk?jk=8077caa1117c6...   \n",
       "7   https://www.indeed.com/rc/clk?jk=4aef59496e15b...   \n",
       "8   https://www.indeed.com/rc/clk?jk=b1551da0fea72...   \n",
       "9   https://www.indeed.com/rc/clk?jk=1e0d20a749623...   \n",
       "10  https://www.indeed.com/rc/clk?jk=a5f09914c6e90...   \n",
       "11  https://www.indeed.com/rc/clk?jk=defa901b43154...   \n",
       "12  https://www.indeed.com/rc/clk?jk=747605dc022c5...   \n",
       "13  https://www.indeed.com/rc/clk?jk=f623dbbc2b80f...   \n",
       "14  https://www.indeed.com/rc/clk?jk=eba4ea170696a...   \n",
       "\n",
       "                        Company  \\\n",
       "0                          Chai   \n",
       "1               LA Philharmonic   \n",
       "2        Proper Hospitality LLC   \n",
       "3   City of Fountain Valley, CA   \n",
       "4   California State University   \n",
       "5                         Cella   \n",
       "6                   UCSF Health   \n",
       "7                 LPL Financial   \n",
       "8             Kaiser Permanente   \n",
       "9                     Deep 6 AI   \n",
       "10  City of Manhattan Beach, CA   \n",
       "11          City of Burbank, CA   \n",
       "12                     Bill.com   \n",
       "13                    Atlassian   \n",
       "14                   Health Net   \n",
       "\n",
       "                                                Title  \\\n",
       "0                                      Chief of Staff   \n",
       "1                          Chief Philanthropy Officer   \n",
       "2                                      Chief of Staff   \n",
       "3                                     Chief of Police   \n",
       "4   Vice President of Equity and Inclusion & Chief...   \n",
       "5                                 CHIEF OF STAFF- CMO   \n",
       "6                                   Chief Dosimetrist   \n",
       "7                                 SVP, Chief of Staff   \n",
       "8              Associate Chief Administrative Officer   \n",
       "9                             Chief Operating Officer   \n",
       "10                                         Fire Chief   \n",
       "11                                       POLICE CHIEF   \n",
       "12                                     Chief of Staff   \n",
       "13                     Chief of Staff to Head of Data   \n",
       "14                           Chief Operating Officer.   \n",
       "\n",
       "                              Salary  \\\n",
       "0         $205,000 - $275,000 a year   \n",
       "1         $400,000 - $450,000 a year   \n",
       "2         $225,000 - $275,000 a year   \n",
       "3   $218,220.88 - $265,248.85 a year   \n",
       "4         $245,000 - $255,000 a year   \n",
       "5                $105 - $110 an hour   \n",
       "6                                      \n",
       "7         $167,500 - $279,100 a year   \n",
       "8         $222,300 - $287,650 a year   \n",
       "9         $220,000 - $260,000 a year   \n",
       "10        $247,800 - $321,000 a year   \n",
       "11                                     \n",
       "12        $197,600 - $247,500 a year   \n",
       "13        $154,700 - $248,400 a year   \n",
       "14        $231,900 - $440,500 a year   \n",
       "\n",
       "                                      Location          Date posted  \n",
       "0                                Palo Alto, CA  2024-09-17 00:39:21  \n",
       "1                              Los Angeles, CA  2024-12-02 22:58:01  \n",
       "2   225 Arizona Avenue, Santa Monica, CA 90401  2025-01-10 08:58:04  \n",
       "3                          Fountain Valley, CA  2024-07-05 21:44:48  \n",
       "4      18111 Nordhoff St, Northridge, CA 91330  2024-11-12 20:49:11  \n",
       "5                            San Francisco, CA  2024-11-13 15:38:08  \n",
       "6                            San Francisco, CA  2024-04-30 22:29:54  \n",
       "7       4707 Executive Dr, San Diego, CA 92121  2024-12-23 17:37:01  \n",
       "8                                Vacaville, CA  2024-11-12 16:01:59  \n",
       "9                                 Pasadena, CA  2024-11-12 05:10:08  \n",
       "10  400 15th Street, Manhattan Beach, CA 90266  2025-01-01 18:54:10  \n",
       "11                                 Burbank, CA  2024-12-20 02:16:42  \n",
       "12                                San Jose, CA  2025-01-07 23:07:29  \n",
       "13                     San Francisco, CA 94104  2024-10-02 08:59:33  \n",
       "14                                  California  2025-01-09 21:20:20  "
      ],
      "text/html": [
       "<div>\n",
       "<style scoped>\n",
       "    .dataframe tbody tr th:only-of-type {\n",
       "        vertical-align: middle;\n",
       "    }\n",
       "\n",
       "    .dataframe tbody tr th {\n",
       "        vertical-align: top;\n",
       "    }\n",
       "\n",
       "    .dataframe thead th {\n",
       "        text-align: right;\n",
       "    }\n",
       "</style>\n",
       "<table border=\"1\" class=\"dataframe\">\n",
       "  <thead>\n",
       "    <tr style=\"text-align: right;\">\n",
       "      <th></th>\n",
       "      <th>Link</th>\n",
       "      <th>Company</th>\n",
       "      <th>Title</th>\n",
       "      <th>Salary</th>\n",
       "      <th>Location</th>\n",
       "      <th>Date posted</th>\n",
       "    </tr>\n",
       "  </thead>\n",
       "  <tbody>\n",
       "    <tr>\n",
       "      <th>0</th>\n",
       "      <td>https://www.indeed.com/rc/clk?jk=2b5742e906877...</td>\n",
       "      <td>Chai</td>\n",
       "      <td>Chief of Staff</td>\n",
       "      <td>$205,000 - $275,000 a year</td>\n",
       "      <td>Palo Alto, CA</td>\n",
       "      <td>2024-09-17 00:39:21</td>\n",
       "    </tr>\n",
       "    <tr>\n",
       "      <th>1</th>\n",
       "      <td>https://www.indeed.com/rc/clk?jk=68fec70c777f3...</td>\n",
       "      <td>LA Philharmonic</td>\n",
       "      <td>Chief Philanthropy Officer</td>\n",
       "      <td>$400,000 - $450,000 a year</td>\n",
       "      <td>Los Angeles, CA</td>\n",
       "      <td>2024-12-02 22:58:01</td>\n",
       "    </tr>\n",
       "    <tr>\n",
       "      <th>2</th>\n",
       "      <td>https://www.indeed.com/rc/clk?jk=8ccc1e500fb3b...</td>\n",
       "      <td>Proper Hospitality LLC</td>\n",
       "      <td>Chief of Staff</td>\n",
       "      <td>$225,000 - $275,000 a year</td>\n",
       "      <td>225 Arizona Avenue, Santa Monica, CA 90401</td>\n",
       "      <td>2025-01-10 08:58:04</td>\n",
       "    </tr>\n",
       "    <tr>\n",
       "      <th>3</th>\n",
       "      <td>https://www.indeed.com/rc/clk?jk=afbb4c1dbef98...</td>\n",
       "      <td>City of Fountain Valley, CA</td>\n",
       "      <td>Chief of Police</td>\n",
       "      <td>$218,220.88 - $265,248.85 a year</td>\n",
       "      <td>Fountain Valley, CA</td>\n",
       "      <td>2024-07-05 21:44:48</td>\n",
       "    </tr>\n",
       "    <tr>\n",
       "      <th>4</th>\n",
       "      <td>https://www.indeed.com/rc/clk?jk=6eeebde66863d...</td>\n",
       "      <td>California State University</td>\n",
       "      <td>Vice President of Equity and Inclusion &amp; Chief...</td>\n",
       "      <td>$245,000 - $255,000 a year</td>\n",
       "      <td>18111 Nordhoff St, Northridge, CA 91330</td>\n",
       "      <td>2024-11-12 20:49:11</td>\n",
       "    </tr>\n",
       "    <tr>\n",
       "      <th>5</th>\n",
       "      <td>https://www.indeed.com/rc/clk?jk=f0f00697ee9cf...</td>\n",
       "      <td>Cella</td>\n",
       "      <td>CHIEF OF STAFF- CMO</td>\n",
       "      <td>$105 - $110 an hour</td>\n",
       "      <td>San Francisco, CA</td>\n",
       "      <td>2024-11-13 15:38:08</td>\n",
       "    </tr>\n",
       "    <tr>\n",
       "      <th>6</th>\n",
       "      <td>https://www.indeed.com/rc/clk?jk=8077caa1117c6...</td>\n",
       "      <td>UCSF Health</td>\n",
       "      <td>Chief Dosimetrist</td>\n",
       "      <td></td>\n",
       "      <td>San Francisco, CA</td>\n",
       "      <td>2024-04-30 22:29:54</td>\n",
       "    </tr>\n",
       "    <tr>\n",
       "      <th>7</th>\n",
       "      <td>https://www.indeed.com/rc/clk?jk=4aef59496e15b...</td>\n",
       "      <td>LPL Financial</td>\n",
       "      <td>SVP, Chief of Staff</td>\n",
       "      <td>$167,500 - $279,100 a year</td>\n",
       "      <td>4707 Executive Dr, San Diego, CA 92121</td>\n",
       "      <td>2024-12-23 17:37:01</td>\n",
       "    </tr>\n",
       "    <tr>\n",
       "      <th>8</th>\n",
       "      <td>https://www.indeed.com/rc/clk?jk=b1551da0fea72...</td>\n",
       "      <td>Kaiser Permanente</td>\n",
       "      <td>Associate Chief Administrative Officer</td>\n",
       "      <td>$222,300 - $287,650 a year</td>\n",
       "      <td>Vacaville, CA</td>\n",
       "      <td>2024-11-12 16:01:59</td>\n",
       "    </tr>\n",
       "    <tr>\n",
       "      <th>9</th>\n",
       "      <td>https://www.indeed.com/rc/clk?jk=1e0d20a749623...</td>\n",
       "      <td>Deep 6 AI</td>\n",
       "      <td>Chief Operating Officer</td>\n",
       "      <td>$220,000 - $260,000 a year</td>\n",
       "      <td>Pasadena, CA</td>\n",
       "      <td>2024-11-12 05:10:08</td>\n",
       "    </tr>\n",
       "    <tr>\n",
       "      <th>10</th>\n",
       "      <td>https://www.indeed.com/rc/clk?jk=a5f09914c6e90...</td>\n",
       "      <td>City of Manhattan Beach, CA</td>\n",
       "      <td>Fire Chief</td>\n",
       "      <td>$247,800 - $321,000 a year</td>\n",
       "      <td>400 15th Street, Manhattan Beach, CA 90266</td>\n",
       "      <td>2025-01-01 18:54:10</td>\n",
       "    </tr>\n",
       "    <tr>\n",
       "      <th>11</th>\n",
       "      <td>https://www.indeed.com/rc/clk?jk=defa901b43154...</td>\n",
       "      <td>City of Burbank, CA</td>\n",
       "      <td>POLICE CHIEF</td>\n",
       "      <td></td>\n",
       "      <td>Burbank, CA</td>\n",
       "      <td>2024-12-20 02:16:42</td>\n",
       "    </tr>\n",
       "    <tr>\n",
       "      <th>12</th>\n",
       "      <td>https://www.indeed.com/rc/clk?jk=747605dc022c5...</td>\n",
       "      <td>Bill.com</td>\n",
       "      <td>Chief of Staff</td>\n",
       "      <td>$197,600 - $247,500 a year</td>\n",
       "      <td>San Jose, CA</td>\n",
       "      <td>2025-01-07 23:07:29</td>\n",
       "    </tr>\n",
       "    <tr>\n",
       "      <th>13</th>\n",
       "      <td>https://www.indeed.com/rc/clk?jk=f623dbbc2b80f...</td>\n",
       "      <td>Atlassian</td>\n",
       "      <td>Chief of Staff to Head of Data</td>\n",
       "      <td>$154,700 - $248,400 a year</td>\n",
       "      <td>San Francisco, CA 94104</td>\n",
       "      <td>2024-10-02 08:59:33</td>\n",
       "    </tr>\n",
       "    <tr>\n",
       "      <th>14</th>\n",
       "      <td>https://www.indeed.com/rc/clk?jk=eba4ea170696a...</td>\n",
       "      <td>Health Net</td>\n",
       "      <td>Chief Operating Officer.</td>\n",
       "      <td>$231,900 - $440,500 a year</td>\n",
       "      <td>California</td>\n",
       "      <td>2025-01-09 21:20:20</td>\n",
       "    </tr>\n",
       "  </tbody>\n",
       "</table>\n",
       "</div>"
      ]
     },
     "execution_count": 36,
     "metadata": {},
     "output_type": "execute_result"
    }
   ],
   "execution_count": 36
  },
  {
   "metadata": {
    "ExecuteTime": {
     "end_time": "2025-01-12T01:14:57.675486Z",
     "start_time": "2025-01-12T01:14:57.662183Z"
    }
   },
   "cell_type": "code",
   "source": [
    "def implement_salary_filter():\n",
    "    global implement_filter_list\n",
    "    implement_filter_list = []\n",
    "    salary_filter_tuple = (salary_filter.split(' ')[0], salary_filter.split(' ')[1], salary_filter.split(' ')[2])\n",
    "    for index, row in df1.iterrows():\n",
    "        if op.contains(df1.at[index, 'Salary'], salary_filter_tuple[1]) and op.contains(df1.at[index, 'Salary'], salary_filter_tuple[2]):\n",
    "            if '.' in df1.at[index, 'Salary']:\n",
    "                range_salary_tuple = tuple(float(salary.replace(',', '')) for salary in re.findall(r\"([\\d,\\.]+)\", df1.iloc[index]['Salary']))\n",
    "            else:\n",
    "                range_salary_tuple = tuple(int(salary.replace(',', '')) for salary in re.findall(r\"([\\d,]+)\", df1.iloc[index]['Salary']))\n",
    "            if len(range_salary_tuple) == 2 and (float(salary_filter_tuple[0]) >= range_salary_tuple[0] and float(salary_filter_tuple[0]) <= range_salary_tuple[1]):\n",
    "                implement_filter_list.append((row[df1.columns[0]], row[df1.columns[1]], row[df1.columns[2]], row[df1.columns[3]], row[df1.columns[4]], row[df1.columns[5]]))\n",
    "            elif len(range_salary_tuple) == 1 and (float(salary_filter_tuple[0]) <= range_salary_tuple[0] and op.contains(df1.iloc[index]['Salary'].lower(), 'up to')):\n",
    "                implement_filter_list.append((row[df1.columns[0]], row[df1.columns[1]], row[df1.columns[2]], row[df1.columns[3]], row[df1.columns[4]], row[df1.columns[5]]))\n",
    "            elif len(range_salary_tuple) == 1 and (float(salary_filter_tuple[0]) >= range_salary_tuple[0] and op.contains(df1.iloc[index]['Salary'].lower(), 'from')):\n",
    "                implement_filter_list.append((row[df1.columns[0]], row[df1.columns[1]], row[df1.columns[2]], row[df1.columns[3]], row[df1.columns[4]], row[df1.columns[5]]))\n",
    "            elif len(range_salary_tuple) == 1 and (float(salary_filter_tuple[0]) == range_salary_tuple[0] and (not op.contains(df1.iloc[index]['Salary'].lower(), 'up to') and not op.contains(df1.iloc[index]['Salary'].lower(), 'from'))):\n",
    "                implement_filter_list.append((row[df1.columns[0]], row[df1.columns[1]], row[df1.columns[2]], row[df1.columns[3]], row[df1.columns[4]], row[df1.columns[5]]))\n",
    "    yield from implement_filter_list\n",
    "salary_generators = implement_salary_filter()\n",
    "for generator in salary_generators:\n",
    "    print(generator)"
   ],
   "id": "2caa9b6698ede848",
   "outputs": [
    {
     "name": "stdout",
     "output_type": "stream",
     "text": [
      "('https://www.indeed.com/rc/clk?jk=4aef59496e15bed8&bb=bAC0RrAkc1-GwjEisDuR6T4Dl4Jh6eYmPg-vTOAnFj4nlydnrKWczuTfQu4FCj7JunqFNNzdRo3TNRyNpHIrjr2-oGieRlKTehCg8yjUt9HEu5hKRn7llQ%3D%3D&xkcb=SoDc67M33r3CyHQVnx0PbzkdCdPP&fccid=bba3b2578c9adb92&vjs=3', 'LPL Financial', 'SVP, Chief of Staff', '$167,500 - $279,100 a year', '4707 Executive Dr, San Diego, CA 92121', '2024-12-23 17:37:01')\n",
      "('https://www.indeed.com/rc/clk?jk=747605dc022c591c&bb=bAC0RrAkc1-GwjEisDuR6aiulNzSeY3Z3IPi3t2uP3Z0cKyrtOAjP8KFdFOkuhgkyMA_ZGBrkUy8xz9KrkFH6QU1pJtNYYabKD3K3r5HvC9Z9oD9WeL32D18dcADjCSO&xkcb=SoCo67M33r3CyHQVnx0DbzkdCdPP&fccid=7d28c1874e2d22be&vjs=3', 'Bill.com', 'Chief of Staff', '$197,600 - $247,500 a year', 'San Jose, CA', '2025-01-07 23:07:29')\n",
      "('https://www.indeed.com/rc/clk?jk=f623dbbc2b80f8c8&bb=bAC0RrAkc1-GwjEisDuR6ZKBvGRlp2cPwPCruq0De73_QbWADjM1irn9cW9opMRnb5X4qZ03xl-TEIphVQoM5c4O65-GDGKAhtluw4W1DkDCtNT7EAXcuPH1XQlXdRX-&xkcb=SoB767M33r3CyHQVnx0KbzkdCdPP&fccid=e6d4ba9e2cfe7902&vjs=3', 'Atlassian', 'Chief of Staff to Head of Data', '$154,700 - $248,400 a year', 'San Francisco, CA 94104', '2024-10-02 08:59:33')\n"
     ]
    }
   ],
   "execution_count": 38
  },
  {
   "metadata": {
    "ExecuteTime": {
     "end_time": "2025-01-12T01:15:17.745195Z",
     "start_time": "2025-01-12T01:15:17.736903Z"
    }
   },
   "cell_type": "code",
   "source": "df2 = pd.DataFrame(implement_filter_list, columns=df1.columns).__deepcopy__()",
   "id": "cfceb9999ab79def",
   "outputs": [],
   "execution_count": 39
  },
  {
   "metadata": {
    "ExecuteTime": {
     "end_time": "2025-01-12T01:17:02.884867Z",
     "start_time": "2025-01-12T01:17:02.874305Z"
    }
   },
   "cell_type": "code",
   "source": [
    "def implement_date_posted_filter():\n",
    "    implement_filter_list = []\n",
    "    for row in df2.itertuples(index=False):\n",
    "        if pendulum.parse(start_date_posted_filter, tz='Asia/Ho_Chi_Minh') <= pendulum.parse(row._5, tz='Asia/Ho_Chi_Minh') and pendulum.parse(end_date_posted_filter, tz='Asia/Ho_Chi_Minh') >= pendulum.parse(row._5, tz='Asia/Ho_Chi_Minh'):\n",
    "            implement_filter_list.append((row.Link, row.Company, row.Title, row.Salary, row.Location, row._5))\n",
    "    yield from implement_filter_list\n",
    "date_posted_generators = implement_date_posted_filter()\n",
    "for generator in date_posted_generators:\n",
    "    print(generator)\n",
    "implement_filter_list = list(set(implement_filter_list))"
   ],
   "id": "2fff39bfbad0d0c1",
   "outputs": [
    {
     "name": "stdout",
     "output_type": "stream",
     "text": [
      "('https://www.indeed.com/rc/clk?jk=4aef59496e15bed8&bb=bAC0RrAkc1-GwjEisDuR6T4Dl4Jh6eYmPg-vTOAnFj4nlydnrKWczuTfQu4FCj7JunqFNNzdRo3TNRyNpHIrjr2-oGieRlKTehCg8yjUt9HEu5hKRn7llQ%3D%3D&xkcb=SoDc67M33r3CyHQVnx0PbzkdCdPP&fccid=bba3b2578c9adb92&vjs=3', 'LPL Financial', 'SVP, Chief of Staff', '$167,500 - $279,100 a year', '4707 Executive Dr, San Diego, CA 92121', '2024-12-23 17:37:01')\n",
      "('https://www.indeed.com/rc/clk?jk=747605dc022c591c&bb=bAC0RrAkc1-GwjEisDuR6aiulNzSeY3Z3IPi3t2uP3Z0cKyrtOAjP8KFdFOkuhgkyMA_ZGBrkUy8xz9KrkFH6QU1pJtNYYabKD3K3r5HvC9Z9oD9WeL32D18dcADjCSO&xkcb=SoCo67M33r3CyHQVnx0DbzkdCdPP&fccid=7d28c1874e2d22be&vjs=3', 'Bill.com', 'Chief of Staff', '$197,600 - $247,500 a year', 'San Jose, CA', '2025-01-07 23:07:29')\n",
      "('https://www.indeed.com/rc/clk?jk=f623dbbc2b80f8c8&bb=bAC0RrAkc1-GwjEisDuR6ZKBvGRlp2cPwPCruq0De73_QbWADjM1irn9cW9opMRnb5X4qZ03xl-TEIphVQoM5c4O65-GDGKAhtluw4W1DkDCtNT7EAXcuPH1XQlXdRX-&xkcb=SoB767M33r3CyHQVnx0KbzkdCdPP&fccid=e6d4ba9e2cfe7902&vjs=3', 'Atlassian', 'Chief of Staff to Head of Data', '$154,700 - $248,400 a year', 'San Francisco, CA 94104', '2024-10-02 08:59:33')\n"
     ]
    }
   ],
   "execution_count": 42
  },
  {
   "metadata": {
    "ExecuteTime": {
     "end_time": "2025-01-12T01:17:11.000802Z",
     "start_time": "2025-01-12T01:17:10.071725Z"
    }
   },
   "cell_type": "code",
   "source": [
    "df3 = pd.DataFrame(implement_filter_list, columns=df1.columns).__deepcopy__()\n",
    "updated_values = [df3.columns.tolist()] + df3.values.tolist()\n",
    "body = {'values': updated_values}\n",
    "spreadsheet_service.spreadsheets().values().update(\n",
    "    spreadsheetId=SPREADSHEET_ID, range=RANGE_NAME,\n",
    "    valueInputOption='RAW', body=body).execute()"
   ],
   "id": "ae3b56ab3a152dad",
   "outputs": [
    {
     "data": {
      "text/plain": [
       "{'spreadsheetId': '1F75bELM8_nYQvFBVqReVUZYcPGuuELIa4nh9MJoS9Tg',\n",
       " 'updatedRange': 'Sheet1!A1:F4',\n",
       " 'updatedRows': 4,\n",
       " 'updatedColumns': 6,\n",
       " 'updatedCells': 24}"
      ]
     },
     "execution_count": 43,
     "metadata": {},
     "output_type": "execute_result"
    }
   ],
   "execution_count": 43
  }
 ],
 "metadata": {
  "kernelspec": {
   "display_name": "Python 3",
   "language": "python",
   "name": "python3"
  },
  "language_info": {
   "codemirror_mode": {
    "name": "ipython",
    "version": 2
   },
   "file_extension": ".py",
   "mimetype": "text/x-python",
   "name": "python",
   "nbconvert_exporter": "python",
   "pygments_lexer": "ipython2",
   "version": "2.7.6"
  }
 },
 "nbformat": 4,
 "nbformat_minor": 5
}
