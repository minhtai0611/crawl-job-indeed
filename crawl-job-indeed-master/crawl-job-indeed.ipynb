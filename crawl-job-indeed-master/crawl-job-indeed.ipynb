{
 "cells": [
  {
   "metadata": {
    "ExecuteTime": {
     "end_time": "2025-01-11T04:07:17.126241Z",
     "start_time": "2025-01-11T04:06:59.814400Z"
    }
   },
   "cell_type": "code",
   "source": [
    "from selenium.webdriver.common.by import By\n",
    "import undetected_chromedriver as uc\n",
    "from selenium.webdriver.support.wait import WebDriverWait\n",
    "from selenium.webdriver.common.keys import Keys\n",
    "from selenium.webdriver.common.action_chains import ActionChains\n",
    "import time\n",
    "import re\n",
    "from bs4 import BeautifulSoup\n",
    "from lxml import etree\n",
    "import pendulum\n",
    "import operator as op\n",
    "\n",
    "driver = uc.Chrome()\n",
    "time.sleep(3)\n",
    "driver.get('https://www.indeed.com/q-usa-jobs.html')\n",
    "time.sleep(6)"
   ],
   "id": "1895e1df3beea50b",
   "outputs": [],
   "execution_count": 1
  },
  {
   "metadata": {
    "ExecuteTime": {
     "end_time": "2025-01-11T04:07:20.147880Z",
     "start_time": "2025-01-11T04:07:17.141187Z"
    }
   },
   "cell_type": "code",
   "source": [
    "keyword_filter= \"chief\"\n",
    "location_filter = \"california\"\n",
    "page_count_filter = \"3\"\n",
    "salary_filter = \"120000 $ hour\"\n",
    "start_date_posted_filter = \"2024-07-01 00:00:00\"\n",
    "end_date_posted_filter = \"2025-01-31 23:59:59\"\n",
    "time.sleep(3)"
   ],
   "id": "cb0048cd60031f83",
   "outputs": [],
   "execution_count": 2
  },
  {
   "metadata": {
    "ExecuteTime": {
     "end_time": "2025-01-11T04:07:55.876596Z",
     "start_time": "2025-01-11T04:07:20.391324Z"
    }
   },
   "cell_type": "code",
   "source": [
    "search_job_keyword = driver.find_element(By.XPATH, '//input[@aria-label=\"search: Job title, keywords, or company\"]')\n",
    "time.sleep(3)\n",
    "search_job_keyword.click()\n",
    "time.sleep(3)\n",
    "actions = ActionChains(driver)\n",
    "time.sleep(3)\n",
    "actions.key_down(Keys.CONTROL).send_keys('A').key_up(Keys.CONTROL).send_keys(Keys.BACK_SPACE).perform()\n",
    "time.sleep(3)\n",
    "search_job_keyword.send_keys(keyword_filter)\n",
    "time.sleep(3)\n",
    "search_location_keyword = driver.find_element(By.XPATH, '//input[@aria-label=\"Edit location\"]')\n",
    "time.sleep(3)\n",
    "search_location_keyword.click()\n",
    "time.sleep(3)\n",
    "search_location_keyword.send_keys(location_filter)\n",
    "time.sleep(3)\n",
    "search_button = driver.find_element(By.XPATH, '//button[@class=\"yosegi-InlineWhatWhere-primaryButton\"]')\n",
    "time.sleep(3)\n",
    "search_button.submit()\n",
    "time.sleep(6)"
   ],
   "id": "5511873664ac22b",
   "outputs": [],
   "execution_count": 3
  },
  {
   "metadata": {
    "ExecuteTime": {
     "end_time": "2025-01-11T04:09:08.917736Z",
     "start_time": "2025-01-11T04:07:55.909456Z"
    }
   },
   "cell_type": "code",
   "source": [
    "def search_job_indeed():\n",
    "    global search_job_indeed_list, search_job_indeed_final_list, search_job_indeed_final_list_filter\n",
    "    search_job_indeed_final_list = []\n",
    "    time.sleep(3)\n",
    "    while True:\n",
    "        try:\n",
    "            job_indeed_frame = driver.find_elements(By.XPATH, '//div[@id=\"mosaic-provider-jobcards\"]/ul/li/div/div/div/div/div/div/table/tbody/tr/td[1]/div[1]/h2/a')\n",
    "            time.sleep(3)\n",
    "            search_job_indeed_list = list(set((job_indeed.get_attribute('href') for job_indeed in job_indeed_frame)))\n",
    "            time.sleep(3)\n",
    "            job_indeed_frame[-1].location_once_scrolled_into_view\n",
    "            time.sleep(6)\n",
    "        except:\n",
    "            print('No more job')\n",
    "            time.sleep(3)\n",
    "        search_job_indeed_final_list.extend(search_job_indeed_list)\n",
    "        time.sleep(3)\n",
    "        search_job_indeed_final_list = list(set(search_job_indeed_final_list))\n",
    "        time.sleep(3)\n",
    "        if (len(search_job_indeed_final_list) % 15 == 0 and len(search_job_indeed_final_list) // 15 == int(page_count_filter)) or (len(search_job_indeed_final_list) % 15 != 0 and len(search_job_indeed_final_list) // 15 + 1 == int(page_count_filter)):\n",
    "            break\n",
    "        try:\n",
    "            next_page_button = driver.find_elements(By.XPATH, '//nav[@aria-label=\"pagination\"]/ul/li/a')\n",
    "            time.sleep(3)\n",
    "            next_page_button[-1].click()\n",
    "            time.sleep(3)\n",
    "            yield len(search_job_indeed_final_list)\n",
    "        except:\n",
    "            print('No more page')\n",
    "            time.sleep(3)\n",
    "            break\n",
    "\n",
    "generators = search_job_indeed()\n",
    "for generator in generators:\n",
    "    print(generator)"
   ],
   "id": "4d156931d1bc2105",
   "outputs": [
    {
     "name": "stdout",
     "output_type": "stream",
     "text": [
      "15\n",
      "30\n"
     ]
    }
   ],
   "execution_count": 4
  },
  {
   "metadata": {
    "ExecuteTime": {
     "end_time": "2025-01-11T04:09:08.991983Z",
     "start_time": "2025-01-11T04:09:08.976935Z"
    }
   },
   "cell_type": "code",
   "source": [
    "if len(search_job_indeed_final_list) % 15 == 0:\n",
    "    if len(search_job_indeed_final_list) == 0:\n",
    "        search_job_indeed_final_list_filter = []\n",
    "    elif len(search_job_indeed_final_list) // 15 + 1 < int(page_count_filter):\n",
    "        search_job_indeed_final_list_filter = search_job_indeed_final_list\n",
    "    else:\n",
    "        search_job_indeed_final_list_filter = search_job_indeed_final_list[:int(page_count_filter) * 15]\n",
    "else:\n",
    "    if len(search_job_indeed_final_list) // 15 + 1 < int(page_count_filter):\n",
    "        search_job_indeed_final_list_filter = search_job_indeed_final_list\n",
    "    elif len(search_job_indeed_final_list) // 15 + 1 == int(page_count_filter):\n",
    "        search_job_indeed_final_list_filter = search_job_indeed_final_list[:(int(page_count_filter) - 1) * 15 + len(search_job_indeed_final_list) % 15]\n",
    "    else:\n",
    "        search_job_indeed_final_list_filter = search_job_indeed_final_list[:int(page_count_filter) * 15]"
   ],
   "id": "85b31fcd93816fea",
   "outputs": [],
   "execution_count": 5
  },
  {
   "metadata": {
    "ExecuteTime": {
     "end_time": "2025-01-11T04:09:10.012054Z",
     "start_time": "2025-01-11T04:09:09.046793Z"
    }
   },
   "cell_type": "code",
   "source": "len(search_job_indeed_final_list_filter)",
   "id": "cac9fb6ed5828a3d",
   "outputs": [
    {
     "data": {
      "text/plain": [
       "45"
      ]
     },
     "execution_count": 6,
     "metadata": {},
     "output_type": "execute_result"
    }
   ],
   "execution_count": 6
  },
  {
   "metadata": {
    "ExecuteTime": {
     "start_time": "2025-01-11T04:09:10.070754Z"
    }
   },
   "cell_type": "code",
   "source": [
    "def get_job_indeed_description():\n",
    "        global job_indeed_description_list\n",
    "        job_indeed_description_list = []\n",
    "        for _, job_indeed_url in enumerate(search_job_indeed_final_list_filter):\n",
    "            driver.get(job_indeed_url)\n",
    "            time.sleep(6)\n",
    "            try:\n",
    "                    company = driver.find_element(By.XPATH, '//div[@data-testid=\"jobsearch-CompanyInfoContainer\"]/div/div/div/div/div[1]/span/a').text\n",
    "                    time.sleep(3)\n",
    "                    sub_company = driver.find_element(By.XPATH, '//div[@data-testid=\"jobsearch-CompanyInfoContainer\"]/div/div/div/div/div[2]/span').text\n",
    "                    time.sleep(3)\n",
    "                    if len(re.findall(r'\\b\\d+\\.\\d+\\b', sub_company)) > 0:\n",
    "                        total_company = company\n",
    "                    else:\n",
    "                        total_company = company + ' ' + sub_company\n",
    "                    time.sleep(3)\n",
    "            except:\n",
    "                    try:\n",
    "                            time.sleep(3)\n",
    "                            total_company = driver.find_element(By.XPATH, '//div[@data-testid=\"jobsearch-CompanyInfoContainer\"]/div/div/div/div/div[1]/span/a').text\n",
    "                            time.sleep(3)\n",
    "                    except:\n",
    "                            try:\n",
    "                                    time.sleep(3)\n",
    "                                    total_company = driver.find_element(By.XPATH, '//div[@data-testid=\"jobsearch-CompanyInfoContainer\"]/div/div/div/div/div[1]/span').text\n",
    "                                    time.sleep(3)\n",
    "                            except:\n",
    "                                    try:\n",
    "                                            time.sleep(3)\n",
    "                                            total_company = driver.find_element(By.XPATH, '//div[starts-with(@class, \"jobsearch-InfoHeaderContainer\")]/div/div/h2').text\n",
    "                                            time.sleep(3)\n",
    "                                    except:\n",
    "                                            try:\n",
    "                                                    time.sleep(3)\n",
    "                                                    total_company = driver.find_element(By.XPATH, '//div[starts-with(@class, \"jobsearch-InfoHeaderContainer\")]/div/div/h2').text\n",
    "                                                    time.sleep(3)\n",
    "                                            except:\n",
    "                                                    time.sleep(3)\n",
    "                                                    total_company = ''\n",
    "                                                    time.sleep(3)\n",
    "            try:\n",
    "                    header = driver.find_element(By.XPATH, '//div[starts-with(@class,\"jobsearch-JobInfoHeader-title-container\")]/h1/span').text\n",
    "                    time.sleep(3)\n",
    "            except:\n",
    "                    try:\n",
    "                            time.sleep(3)\n",
    "                            header = driver.find_element(By.XPATH, '//div[starts-with(@class, \"jobsearch-InfoHeaderContainer\")]/div/div/div/span').text\n",
    "                            time.sleep(3)\n",
    "                    except:\n",
    "                            time.sleep(3)\n",
    "                            header = ''\n",
    "                            time.sleep(3)\n",
    "            try:\n",
    "                    location = driver.find_element(By.XPATH, '//div[@data-testid=\"jobsearch-CompanyInfoContainer\"]/div/div/div/div[2]/div').text\n",
    "                    time.sleep(3)\n",
    "            except:\n",
    "                    try:\n",
    "                            time.sleep(3)\n",
    "                            location = driver.find_element(By.XPATH, '//div[starts-with(@class, \"jobsearch-InfoHeaderContainer\")]/div/div/div/div[2]/div').text\n",
    "                            time.sleep(3)\n",
    "                    except:\n",
    "                            try:\n",
    "                                time.sleep(3)\n",
    "                                location = driver.find_element(By.XPATH, '//div[starts-with(@class, \"jobsearch-InfoHeaderContainer\")]/div/div[2]/div/div/div/div[2]/div').text\n",
    "                                time.sleep(3)\n",
    "                            except:\n",
    "                                    time.sleep(3)\n",
    "                                    location = ''\n",
    "                                    time.sleep(3)\n",
    "            try:\n",
    "                soup = BeautifulSoup(driver.page_source, 'lxml')\n",
    "                time.sleep(3)\n",
    "                script_context = soup.find_all('script', string=re.compile(r'@context'))[0].getText().strip()\n",
    "                time.sleep(3)\n",
    "                standard_date_posted = re.search(r'\\\"datePosted\\\":\\\"([^\"]+)\\\"', script_context).group(1)\n",
    "                time.sleep(3)\n",
    "                readable_date_posted = pendulum.parse(standard_date_posted, tz='Asia/Ho_Chi_Minh').to_datetime_string()\n",
    "                time.sleep(3)\n",
    "            except:\n",
    "                try:\n",
    "                    soup = BeautifulSoup(driver.page_source, 'lxml')\n",
    "                    time.sleep(3)\n",
    "                    script_initial_data = soup.find_all('script', string=re.compile(r'window._initialData'))[0].getText().strip()\n",
    "                    time.sleep(3)\n",
    "                    standard_date_posted = re.search(r'\\\"datePublished\\\":(\\d+)', script_initial_data).group(1)\n",
    "                    time.sleep(3)\n",
    "                    readable_date_posted = pendulum.from_timestamp(int(standard_date_posted) / 1000, tz='Asia/Ho_Chi_Minh').to_datetime_string()\n",
    "                    time.sleep(3)\n",
    "                except:\n",
    "                        time.sleep(3)\n",
    "                        readable_date_posted = ''\n",
    "                        time.sleep(3)\n",
    "            try:\n",
    "                soup = BeautifulSoup(driver.page_source, 'lxml')\n",
    "                time.sleep(3)\n",
    "                script_initial_data = soup.find_all('script', string=re.compile(r'window._initialData'))[0].getText().strip()\n",
    "                time.sleep(3)\n",
    "                salary = re.search(r'\\\"salaryText\\\":\\\"([^\"]+)\\\"', script_initial_data).group(1)\n",
    "                time.sleep(3)\n",
    "            except:\n",
    "                    time.sleep(3)\n",
    "                    salary = ''\n",
    "                    time.sleep(3)\n",
    "            job_indeed_description_list.append((job_indeed_url, total_company, header, salary, location, readable_date_posted))\n",
    "            yield total_company, header, location, readable_date_posted, salary\n",
    "generators = get_job_indeed_description()\n",
    "for generator in generators:\n",
    "    print(generator)"
   ],
   "id": "a5ee7a0298e367d6",
   "outputs": [
    {
     "name": "stdout",
     "output_type": "stream",
     "text": [
      "('LA Philharmonic', 'Chief Philanthropy Officer', 'Los Angeles, CA', '2024-12-02 22:58:01', '$400,000 - $450,000 a year')\n"
     ]
    }
   ],
   "execution_count": null
  },
  {
   "metadata": {
    "ExecuteTime": {
     "end_time": "2025-01-11T04:10:24.851618500Z",
     "start_time": "2025-01-11T03:48:13.756037Z"
    }
   },
   "cell_type": "code",
   "source": "len(job_indeed_description_list)",
   "id": "a4390f179d839de4",
   "outputs": [
    {
     "data": {
      "text/plain": [
       "14"
      ]
     },
     "execution_count": 23,
     "metadata": {},
     "output_type": "execute_result"
    }
   ],
   "execution_count": 23
  },
  {
   "metadata": {
    "ExecuteTime": {
     "end_time": "2025-01-11T04:10:24.851618500Z",
     "start_time": "2025-01-11T03:48:13.820856Z"
    }
   },
   "cell_type": "code",
   "source": [
    "from googleapiclient.discovery import build\n",
    "from googleapiclient.errors import HttpError\n",
    "from google.oauth2 import service_account\n",
    "import pandas as pd\n",
    "\n",
    "credentials = service_account.Credentials.from_service_account_file('credentials.json')\n",
    "spreadsheet_service = build('sheets', 'v4', credentials=credentials)\n",
    "\n",
    "SPREADSHEET_ID = '1F75bELM8_nYQvFBVqReVUZYcPGuuELIa4nh9MJoS9Tg'\n",
    "RANGE_NAME = 'Sheet1'\n",
    "sheet = spreadsheet_service.spreadsheets()\n",
    "result = sheet.values().get(spreadsheetId=SPREADSHEET_ID, range=RANGE_NAME).execute()\n",
    "values = result.get('values', [])\n",
    "max_cols = max(len(row) for row in values)\n",
    "values = [row + [''] * (max_cols - len(row)) for row in values]\n",
    "df = pd.DataFrame(values[1:], columns=values[0])\n",
    "df = df.fillna('')"
   ],
   "id": "aab379cf81ef9b1b",
   "outputs": [],
   "execution_count": 24
  },
  {
   "metadata": {
    "ExecuteTime": {
     "end_time": "2025-01-11T04:10:24.851618500Z",
     "start_time": "2025-01-11T03:48:16.054068Z"
    }
   },
   "cell_type": "code",
   "source": [
    "cleared_values = {\n",
    "    \"requests\": [\n",
    "        {\n",
    "            \"updateCells\": {\n",
    "                \"range\": {\n",
    "                    \"sheetId\": 0,\n",
    "                    \"startRowIndex\": 1,\n",
    "                    \"endRowIndex\": None,\n",
    "                    \"startColumnIndex\": 0,\n",
    "                    \"endColumnIndex\": 6\n",
    "                },\n",
    "                \"fields\": \"userEnteredValue\"\n",
    "            }\n",
    "        }\n",
    "    ]\n",
    "}\n",
    "spreadsheet_service.spreadsheets().batchUpdate(spreadsheetId=SPREADSHEET_ID, body=cleared_values).execute()"
   ],
   "id": "7b53224c9dc18b19",
   "outputs": [
    {
     "data": {
      "text/plain": [
       "{'spreadsheetId': '1F75bELM8_nYQvFBVqReVUZYcPGuuELIa4nh9MJoS9Tg',\n",
       " 'replies': [{}]}"
      ]
     },
     "execution_count": 25,
     "metadata": {},
     "output_type": "execute_result"
    }
   ],
   "execution_count": 25
  },
  {
   "metadata": {
    "ExecuteTime": {
     "end_time": "2025-01-11T04:10:24.867241900Z",
     "start_time": "2025-01-11T03:48:16.591549Z"
    }
   },
   "cell_type": "code",
   "source": [
    "df1 = pd.DataFrame(job_indeed_description_list, columns=df.columns).__deepcopy__()\n",
    "df1"
   ],
   "id": "982272decfbf3da0",
   "outputs": [
    {
     "data": {
      "text/plain": [
       "                                                 Link  \\\n",
       "0   https://www.indeed.com/rc/clk?jk=88cea759d73cc...   \n",
       "1   https://www.indeed.com/rc/clk?jk=2edda3887ee30...   \n",
       "2   https://www.indeed.com/rc/clk?jk=0d134161edf6b...   \n",
       "3   https://www.indeed.com/rc/clk?jk=a8c2ba87d1c56...   \n",
       "4   https://www.indeed.com/rc/clk?jk=bc79229d78a77...   \n",
       "5   https://www.indeed.com/rc/clk?jk=6aece1b4aaadd...   \n",
       "6   https://www.indeed.com/rc/clk?jk=f6a7501fd9751...   \n",
       "7   https://www.indeed.com/rc/clk?jk=a90fcf7b58e83...   \n",
       "8   https://www.indeed.com/rc/clk?jk=274a838921878...   \n",
       "9   https://www.indeed.com/rc/clk?jk=a30eaa1113bec...   \n",
       "10  https://www.indeed.com/rc/clk?jk=76a7e3b914480...   \n",
       "11  https://www.indeed.com/rc/clk?jk=78e2c08ee3e45...   \n",
       "12  https://www.indeed.com/rc/clk?jk=59942ad47c30f...   \n",
       "13  https://www.indeed.com/rc/clk?jk=8a7645b65c9d6...   \n",
       "\n",
       "                           Company  \\\n",
       "0          Career Technologies USA   \n",
       "1                     AGQ Labs USA   \n",
       "2                   GOBankingRates   \n",
       "3                         TePe USA   \n",
       "4                          Wisetek   \n",
       "5               Domino's Corporate   \n",
       "6                         Vertogic   \n",
       "7                    Advantech USA   \n",
       "8                 Reliant Holdings   \n",
       "9                         Lumentum   \n",
       "10              Arithmica USA Inc.   \n",
       "11         Career Technologies USA   \n",
       "12  Allfast Fastening Systems, LLC   \n",
       "13              Arithmica USA Inc.   \n",
       "\n",
       "                                                Title  \\\n",
       "0                                    Material Handler   \n",
       "1                                  Laboratory Analyst   \n",
       "2   New Business Development Specialist (100% Remo...   \n",
       "3                                   Call Center Agent   \n",
       "4                                              Driver   \n",
       "5              Production Associate (California, USA)   \n",
       "6                                  Software Engineers   \n",
       "7                        Shipping and Receiving Clerk   \n",
       "8        Processing - Ice Operator Visalia California   \n",
       "9                                  FinFet Mask Design   \n",
       "10                    JEE webservices Support Analyst   \n",
       "11                   Assembly Technician I (2nd shft)   \n",
       "12        Chemical Processor 2nd shift-1:30pm-10:00pm   \n",
       "13                            OFM-JEE/OSB Dev/Analyst   \n",
       "\n",
       "                       Salary  \\\n",
       "0           $18 - $20 an hour   \n",
       "1    $69,000 - $76,000 a year   \n",
       "2   $80,000 - $100,000 a year   \n",
       "3                               \n",
       "4                               \n",
       "5                 $22 an hour   \n",
       "6                               \n",
       "7           $20 - $22 an hour   \n",
       "8           $18 - $22 an hour   \n",
       "9                               \n",
       "10                              \n",
       "11          $20 - $22 an hour   \n",
       "12    $18.00 - $29.86 an hour   \n",
       "13                              \n",
       "\n",
       "                                           Location          Date posted  \n",
       "0                                    Chatsworth, CA  2024-10-21 22:24:25  \n",
       "1                  AGQ Labs USA in Oxnard, CA 93030  2024-12-23 17:35:59  \n",
       "2                                   Los Angeles, CA  2025-01-08 00:37:58  \n",
       "3      1130 North Gilbert Street, Anaheim, CA 92801  2023-01-09 16:56:12  \n",
       "4                                    Sacramento, CA  2023-12-30 02:20:51  \n",
       "5   301 South Rockefeller Avenue, Ontario, CA 91764  2025-01-09 19:49:13  \n",
       "6                                       Fremont, CA  2020-11-09 15:59:40  \n",
       "7                                      Milpitas, CA  2025-01-09 00:24:01  \n",
       "8              7249 W Goshen Ave, Visalia, CA 93291  2024-03-20 22:29:30  \n",
       "9           1001 Ridder Park Dr, San Jose, CA 95131  2023-01-18 01:22:01  \n",
       "10                                    San Ramon, CA  2018-12-11 11:11:06  \n",
       "11                                   Chatsworth, CA  2024-10-23 22:24:23  \n",
       "12          15200 Don Julian Rd, Industry, CA 91745  2024-06-27 21:26:44  \n",
       "13                                    San Ramon, CA  2019-01-17 11:10:27  "
      ],
      "text/html": [
       "<div>\n",
       "<style scoped>\n",
       "    .dataframe tbody tr th:only-of-type {\n",
       "        vertical-align: middle;\n",
       "    }\n",
       "\n",
       "    .dataframe tbody tr th {\n",
       "        vertical-align: top;\n",
       "    }\n",
       "\n",
       "    .dataframe thead th {\n",
       "        text-align: right;\n",
       "    }\n",
       "</style>\n",
       "<table border=\"1\" class=\"dataframe\">\n",
       "  <thead>\n",
       "    <tr style=\"text-align: right;\">\n",
       "      <th></th>\n",
       "      <th>Link</th>\n",
       "      <th>Company</th>\n",
       "      <th>Title</th>\n",
       "      <th>Salary</th>\n",
       "      <th>Location</th>\n",
       "      <th>Date posted</th>\n",
       "    </tr>\n",
       "  </thead>\n",
       "  <tbody>\n",
       "    <tr>\n",
       "      <th>0</th>\n",
       "      <td>https://www.indeed.com/rc/clk?jk=88cea759d73cc...</td>\n",
       "      <td>Career Technologies USA</td>\n",
       "      <td>Material Handler</td>\n",
       "      <td>$18 - $20 an hour</td>\n",
       "      <td>Chatsworth, CA</td>\n",
       "      <td>2024-10-21 22:24:25</td>\n",
       "    </tr>\n",
       "    <tr>\n",
       "      <th>1</th>\n",
       "      <td>https://www.indeed.com/rc/clk?jk=2edda3887ee30...</td>\n",
       "      <td>AGQ Labs USA</td>\n",
       "      <td>Laboratory Analyst</td>\n",
       "      <td>$69,000 - $76,000 a year</td>\n",
       "      <td>AGQ Labs USA in Oxnard, CA 93030</td>\n",
       "      <td>2024-12-23 17:35:59</td>\n",
       "    </tr>\n",
       "    <tr>\n",
       "      <th>2</th>\n",
       "      <td>https://www.indeed.com/rc/clk?jk=0d134161edf6b...</td>\n",
       "      <td>GOBankingRates</td>\n",
       "      <td>New Business Development Specialist (100% Remo...</td>\n",
       "      <td>$80,000 - $100,000 a year</td>\n",
       "      <td>Los Angeles, CA</td>\n",
       "      <td>2025-01-08 00:37:58</td>\n",
       "    </tr>\n",
       "    <tr>\n",
       "      <th>3</th>\n",
       "      <td>https://www.indeed.com/rc/clk?jk=a8c2ba87d1c56...</td>\n",
       "      <td>TePe USA</td>\n",
       "      <td>Call Center Agent</td>\n",
       "      <td></td>\n",
       "      <td>1130 North Gilbert Street, Anaheim, CA 92801</td>\n",
       "      <td>2023-01-09 16:56:12</td>\n",
       "    </tr>\n",
       "    <tr>\n",
       "      <th>4</th>\n",
       "      <td>https://www.indeed.com/rc/clk?jk=bc79229d78a77...</td>\n",
       "      <td>Wisetek</td>\n",
       "      <td>Driver</td>\n",
       "      <td></td>\n",
       "      <td>Sacramento, CA</td>\n",
       "      <td>2023-12-30 02:20:51</td>\n",
       "    </tr>\n",
       "    <tr>\n",
       "      <th>5</th>\n",
       "      <td>https://www.indeed.com/rc/clk?jk=6aece1b4aaadd...</td>\n",
       "      <td>Domino's Corporate</td>\n",
       "      <td>Production Associate (California, USA)</td>\n",
       "      <td>$22 an hour</td>\n",
       "      <td>301 South Rockefeller Avenue, Ontario, CA 91764</td>\n",
       "      <td>2025-01-09 19:49:13</td>\n",
       "    </tr>\n",
       "    <tr>\n",
       "      <th>6</th>\n",
       "      <td>https://www.indeed.com/rc/clk?jk=f6a7501fd9751...</td>\n",
       "      <td>Vertogic</td>\n",
       "      <td>Software Engineers</td>\n",
       "      <td></td>\n",
       "      <td>Fremont, CA</td>\n",
       "      <td>2020-11-09 15:59:40</td>\n",
       "    </tr>\n",
       "    <tr>\n",
       "      <th>7</th>\n",
       "      <td>https://www.indeed.com/rc/clk?jk=a90fcf7b58e83...</td>\n",
       "      <td>Advantech USA</td>\n",
       "      <td>Shipping and Receiving Clerk</td>\n",
       "      <td>$20 - $22 an hour</td>\n",
       "      <td>Milpitas, CA</td>\n",
       "      <td>2025-01-09 00:24:01</td>\n",
       "    </tr>\n",
       "    <tr>\n",
       "      <th>8</th>\n",
       "      <td>https://www.indeed.com/rc/clk?jk=274a838921878...</td>\n",
       "      <td>Reliant Holdings</td>\n",
       "      <td>Processing - Ice Operator Visalia California</td>\n",
       "      <td>$18 - $22 an hour</td>\n",
       "      <td>7249 W Goshen Ave, Visalia, CA 93291</td>\n",
       "      <td>2024-03-20 22:29:30</td>\n",
       "    </tr>\n",
       "    <tr>\n",
       "      <th>9</th>\n",
       "      <td>https://www.indeed.com/rc/clk?jk=a30eaa1113bec...</td>\n",
       "      <td>Lumentum</td>\n",
       "      <td>FinFet Mask Design</td>\n",
       "      <td></td>\n",
       "      <td>1001 Ridder Park Dr, San Jose, CA 95131</td>\n",
       "      <td>2023-01-18 01:22:01</td>\n",
       "    </tr>\n",
       "    <tr>\n",
       "      <th>10</th>\n",
       "      <td>https://www.indeed.com/rc/clk?jk=76a7e3b914480...</td>\n",
       "      <td>Arithmica USA Inc.</td>\n",
       "      <td>JEE webservices Support Analyst</td>\n",
       "      <td></td>\n",
       "      <td>San Ramon, CA</td>\n",
       "      <td>2018-12-11 11:11:06</td>\n",
       "    </tr>\n",
       "    <tr>\n",
       "      <th>11</th>\n",
       "      <td>https://www.indeed.com/rc/clk?jk=78e2c08ee3e45...</td>\n",
       "      <td>Career Technologies USA</td>\n",
       "      <td>Assembly Technician I (2nd shft)</td>\n",
       "      <td>$20 - $22 an hour</td>\n",
       "      <td>Chatsworth, CA</td>\n",
       "      <td>2024-10-23 22:24:23</td>\n",
       "    </tr>\n",
       "    <tr>\n",
       "      <th>12</th>\n",
       "      <td>https://www.indeed.com/rc/clk?jk=59942ad47c30f...</td>\n",
       "      <td>Allfast Fastening Systems, LLC</td>\n",
       "      <td>Chemical Processor 2nd shift-1:30pm-10:00pm</td>\n",
       "      <td>$18.00 - $29.86 an hour</td>\n",
       "      <td>15200 Don Julian Rd, Industry, CA 91745</td>\n",
       "      <td>2024-06-27 21:26:44</td>\n",
       "    </tr>\n",
       "    <tr>\n",
       "      <th>13</th>\n",
       "      <td>https://www.indeed.com/rc/clk?jk=8a7645b65c9d6...</td>\n",
       "      <td>Arithmica USA Inc.</td>\n",
       "      <td>OFM-JEE/OSB Dev/Analyst</td>\n",
       "      <td></td>\n",
       "      <td>San Ramon, CA</td>\n",
       "      <td>2019-01-17 11:10:27</td>\n",
       "    </tr>\n",
       "  </tbody>\n",
       "</table>\n",
       "</div>"
      ]
     },
     "execution_count": 26,
     "metadata": {},
     "output_type": "execute_result"
    }
   ],
   "execution_count": 26
  },
  {
   "metadata": {
    "ExecuteTime": {
     "end_time": "2025-01-11T04:10:24.867241900Z",
     "start_time": "2025-01-11T03:48:16.664270Z"
    }
   },
   "cell_type": "code",
   "source": [
    "def implement_salary_filter():\n",
    "    global implement_filter_list\n",
    "    implement_filter_list = []\n",
    "    salary_filter_tuple = (salary_filter.split(' ')[0], salary_filter.split(' ')[1], salary_filter.split(' ')[2])\n",
    "    for index, row in df1.iterrows():\n",
    "        if op.contains(df1.at[index, 'Salary'], salary_filter_tuple[1]) and op.contains(df1.at[index, 'Salary'], salary_filter_tuple[2]):\n",
    "            range_salary_tuple = tuple(int(salary.replace(',', '')) for salary in re.findall(r\"([\\d,]+)\", df1.iloc[index]['Salary']))\n",
    "            print(range_salary_tuple)\n",
    "            if len(range_salary_tuple) == 2 and (int(salary_filter_tuple[0]) >= range_salary_tuple[0] and int(salary_filter_tuple[0]) <= range_salary_tuple[1]):\n",
    "                implement_filter_list.append((row[df1.columns[0]], row[df1.columns[1]], row[df1.columns[2]], row[df1.columns[3]], row[df1.columns[4]], row[df1.columns[5]]))\n",
    "                yield from implement_filter_list\n",
    "            elif len(range_salary_tuple) == 1 and (int(salary_filter_tuple[0]) <= range_salary_tuple[0] and op.contains(df1.iloc[index]['Salary'].lower(), 'up to')):\n",
    "                implement_filter_list.append((row[df1.columns[0]], row[df1.columns[1]], row[df1.columns[2]], row[df1.columns[3]], row[df1.columns[4]], row[df1.columns[5]]))\n",
    "                yield from implement_filter_list\n",
    "            elif len(range_salary_tuple) == 1 and (int(salary_filter_tuple[0]) >= range_salary_tuple[0] and op.contains(df1.iloc[index]['Salary'].lower(), 'from')):\n",
    "                implement_filter_list.append((row[df1.columns[0]], row[df1.columns[1]], row[df1.columns[2]], row[df1.columns[3]], row[df1.columns[4]], row[df1.columns[5]]))\n",
    "                yield from implement_filter_list\n",
    "            elif len(range_salary_tuple) == 1 and (int(salary_filter_tuple[0]) == range_salary_tuple[0] and (not op.contains(df1.iloc[index]['Salary'].lower(), 'up to') and not op.contains(df1.iloc[index]['Salary'].lower(), 'from'))):\n",
    "                implement_filter_list.append((row[df1.columns[0]], row[df1.columns[1]], row[df1.columns[2]], row[df1.columns[3]], row[df1.columns[4]], row[df1.columns[5]]))\n",
    "                yield from implement_filter_list\n",
    "salary_generators = implement_salary_filter()\n",
    "for generator in salary_generators:\n",
    "    print(generator)"
   ],
   "id": "2caa9b6698ede848",
   "outputs": [
    {
     "name": "stdout",
     "output_type": "stream",
     "text": [
      "(18, 20)\n",
      "(22,)\n",
      "(20, 22)\n",
      "(18, 22)\n",
      "(20, 22)\n",
      "(18, 0, 29, 86)\n"
     ]
    }
   ],
   "execution_count": 27
  },
  {
   "metadata": {
    "ExecuteTime": {
     "end_time": "2025-01-11T04:10:24.867241900Z",
     "start_time": "2025-01-11T03:48:16.854563Z"
    }
   },
   "cell_type": "code",
   "source": [
    "df2 = pd.DataFrame(implement_filter_list, columns=df1.columns).__deepcopy__()\n",
    "implement_filter_list = []"
   ],
   "id": "cfceb9999ab79def",
   "outputs": [],
   "execution_count": 28
  },
  {
   "metadata": {
    "ExecuteTime": {
     "end_time": "2025-01-11T04:10:24.867241900Z",
     "start_time": "2025-01-11T03:48:16.960006Z"
    }
   },
   "cell_type": "code",
   "source": [
    "def implement_date_posted_filter():\n",
    "    for row in df2.itertuples(index=False):\n",
    "        if pendulum.parse(start_date_posted_filter, tz='Asia/Ho_Chi_Minh') <= pendulum.parse(row._5, tz='Asia/Ho_Chi_Minh') and pendulum.parse(end_date_posted_filter, tz='Asia/Ho_Chi_Minh') >= pendulum.parse(row._5, tz='Asia/Ho_Chi_Minh'):\n",
    "            implement_filter_list.append((row.Link, row.Company, row.Title, row.Salary, row.Location, row._5))\n",
    "            yield from implement_filter_list\n",
    "date_posted_generators = implement_date_posted_filter()\n",
    "for generator in date_posted_generators:\n",
    "    print(generator)\n",
    "implement_filter_list = list(set(implement_filter_list))"
   ],
   "id": "2fff39bfbad0d0c1",
   "outputs": [],
   "execution_count": 29
  },
  {
   "metadata": {
    "ExecuteTime": {
     "end_time": "2025-01-11T04:10:24.867241900Z",
     "start_time": "2025-01-11T03:48:17.276358Z"
    }
   },
   "cell_type": "code",
   "source": [
    "df3 = pd.DataFrame(implement_filter_list, columns=df1.columns).__deepcopy__()\n",
    "updated_values = [df3.columns.tolist()] + df3.values.tolist()\n",
    "body = {'values': updated_values}\n",
    "spreadsheet_service.spreadsheets().values().update(\n",
    "    spreadsheetId=SPREADSHEET_ID, range=RANGE_NAME,\n",
    "    valueInputOption='RAW', body=body).execute()"
   ],
   "id": "ae3b56ab3a152dad",
   "outputs": [
    {
     "data": {
      "text/plain": [
       "{'spreadsheetId': '1F75bELM8_nYQvFBVqReVUZYcPGuuELIa4nh9MJoS9Tg',\n",
       " 'updatedRange': 'Sheet1!A1:F1',\n",
       " 'updatedRows': 1,\n",
       " 'updatedColumns': 6,\n",
       " 'updatedCells': 6}"
      ]
     },
     "execution_count": 30,
     "metadata": {},
     "output_type": "execute_result"
    }
   ],
   "execution_count": 30
  }
 ],
 "metadata": {
  "kernelspec": {
   "display_name": "Python 3",
   "language": "python",
   "name": "python3"
  },
  "language_info": {
   "codemirror_mode": {
    "name": "ipython",
    "version": 2
   },
   "file_extension": ".py",
   "mimetype": "text/x-python",
   "name": "python",
   "nbconvert_exporter": "python",
   "pygments_lexer": "ipython2",
   "version": "2.7.6"
  }
 },
 "nbformat": 4,
 "nbformat_minor": 5
}
