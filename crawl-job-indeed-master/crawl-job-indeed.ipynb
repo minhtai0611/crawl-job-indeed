{
 "cells": [
  {
   "metadata": {
    "ExecuteTime": {
     "end_time": "2025-01-08T00:32:55.660996Z",
     "start_time": "2025-01-08T00:32:35.975091Z"
    }
   },
   "cell_type": "code",
   "source": [
    "from selenium.webdriver.common.by import By\n",
    "import undetected_chromedriver as uc\n",
    "from selenium.webdriver.support.wait import WebDriverWait\n",
    "import time\n",
    "import re\n",
    "from bs4 import BeautifulSoup\n",
    "from lxml import etree\n",
    "import pendulum\n",
    "import operator as op\n",
    "\n",
    "driver = uc.Chrome()\n",
    "time.sleep(3)\n",
    "driver.get('https://www.indeed.com/')\n",
    "time.sleep(6)"
   ],
   "id": "1895e1df3beea50b",
   "outputs": [],
   "execution_count": 1
  },
  {
   "metadata": {
    "ExecuteTime": {
     "end_time": "2025-01-08T03:39:13.885373Z",
     "start_time": "2025-01-08T03:39:10.867002Z"
    }
   },
   "cell_type": "code",
   "source": [
    "keyword_filter= \"data analyst\"\n",
    "location_filter = \"vietnam\"\n",
    "page_count_filter = \"1\"\n",
    "salary_filter = \"3000000 VNĐ month\"\n",
    "date_posted_filter = \"2020-02-02 02:00:00\"\n",
    "time.sleep(3)"
   ],
   "id": "cb0048cd60031f83",
   "outputs": [],
   "execution_count": 94
  },
  {
   "metadata": {
    "ExecuteTime": {
     "end_time": "2025-01-08T00:33:31.829896Z",
     "start_time": "2025-01-08T00:33:02.309503Z"
    }
   },
   "cell_type": "code",
   "source": [
    "search_job_keyword = driver.find_element(By.XPATH, '//input[@aria-label=\"search: Job title, keywords, or company\"]')\n",
    "time.sleep(3)\n",
    "search_job_keyword.click()\n",
    "time.sleep(3)\n",
    "search_job_keyword.send_keys(keyword_filter)\n",
    "time.sleep(3)\n",
    "search_location_keyword = driver.find_element(By.XPATH, '//input[@aria-label=\"Edit location\"]')\n",
    "time.sleep(3)\n",
    "search_location_keyword.click()\n",
    "time.sleep(3)\n",
    "search_location_keyword.send_keys(location_filter)\n",
    "time.sleep(3)\n",
    "search_button = driver.find_element(By.XPATH, '//button[@class=\"yosegi-InlineWhatWhere-primaryButton\"]')\n",
    "time.sleep(3)\n",
    "search_button.submit()\n",
    "time.sleep(6)"
   ],
   "id": "5511873664ac22b",
   "outputs": [],
   "execution_count": 3
  },
  {
   "metadata": {
    "ExecuteTime": {
     "end_time": "2025-01-08T00:33:53.185051Z",
     "start_time": "2025-01-08T00:33:31.843246Z"
    }
   },
   "cell_type": "code",
   "source": [
    "def search_job_indeed():\n",
    "    global search_job_indeed_list, search_job_indeed_final_list, search_job_indeed_final_list_filter\n",
    "    search_job_indeed_final_list = []\n",
    "    time.sleep(3)\n",
    "    while True:\n",
    "        try:\n",
    "            job_indeed_frame = driver.find_elements(By.XPATH, '//div[@id=\"mosaic-provider-jobcards\"]/ul/li/div/div/div/div/div/div/table/tbody/tr/td[1]/div[1]/h2/a')\n",
    "            time.sleep(3)\n",
    "            search_job_indeed_list = list(set((job_indeed.get_attribute('href') for job_indeed in job_indeed_frame)))\n",
    "            time.sleep(3)\n",
    "            job_indeed_frame[-1].location_once_scrolled_into_view\n",
    "            time.sleep(6)\n",
    "        except:\n",
    "            print('No more job')\n",
    "            time.sleep(3)\n",
    "        search_job_indeed_final_list.extend(search_job_indeed_list)\n",
    "        time.sleep(3)\n",
    "        search_job_indeed_final_list = list(set(search_job_indeed_final_list))\n",
    "        time.sleep(3)\n",
    "        if (len(search_job_indeed_final_list) % 15 == 0 and len(search_job_indeed_final_list) // 15 == int(page_count_filter)) or (len(search_job_indeed_final_list) % 15 != 0 and len(search_job_indeed_final_list) // 15 + 1 == int(page_count_filter)):\n",
    "            break\n",
    "        try:\n",
    "            next_page_button = driver.find_elements(By.XPATH, '//nav[@aria-label=\"pagination\"]/ul/li/a')\n",
    "            time.sleep(3)\n",
    "            next_page_button[-1].click()\n",
    "            time.sleep(3)\n",
    "            yield len(search_job_indeed_final_list)\n",
    "        except:\n",
    "            print('No more page')\n",
    "            time.sleep(3)\n",
    "            break\n",
    "\n",
    "generators = search_job_indeed()\n",
    "for generator in generators:\n",
    "    print(generator)"
   ],
   "id": "4d156931d1bc2105",
   "outputs": [],
   "execution_count": 4
  },
  {
   "metadata": {
    "ExecuteTime": {
     "end_time": "2025-01-08T00:33:53.201877Z",
     "start_time": "2025-01-08T00:33:53.195697Z"
    }
   },
   "cell_type": "code",
   "source": [
    "if len(search_job_indeed_final_list) % 15 == 0:\n",
    "    if len(search_job_indeed_final_list) == 0:\n",
    "        search_job_indeed_final_list_filter = []\n",
    "    elif len(search_job_indeed_final_list) // 15 + 1 < int(page_count_filter):\n",
    "        search_job_indeed_final_list_filter = search_job_indeed_final_list\n",
    "    else:\n",
    "        search_job_indeed_final_list_filter = search_job_indeed_final_list[:int(page_count_filter) * 15]\n",
    "else:\n",
    "    if len(search_job_indeed_final_list) // 15 + 1 < int(page_count_filter):\n",
    "        search_job_indeed_final_list_filter = search_job_indeed_final_list\n",
    "    elif len(search_job_indeed_final_list) // 15 + 1 == int(page_count_filter):\n",
    "        search_job_indeed_final_list_filter = search_job_indeed_final_list[:(int(page_count_filter) - 1) * 15 + len(search_job_indeed_final_list) % 15]\n",
    "    else:\n",
    "        search_job_indeed_final_list_filter = search_job_indeed_final_list[:int(page_count_filter) * 15]"
   ],
   "id": "85b31fcd93816fea",
   "outputs": [],
   "execution_count": 5
  },
  {
   "metadata": {
    "ExecuteTime": {
     "end_time": "2025-01-08T00:33:53.235748Z",
     "start_time": "2025-01-08T00:33:53.223140Z"
    }
   },
   "cell_type": "code",
   "source": "len(search_job_indeed_final_list_filter)",
   "id": "cac9fb6ed5828a3d",
   "outputs": [
    {
     "data": {
      "text/plain": [
       "15"
      ]
     },
     "execution_count": 6,
     "metadata": {},
     "output_type": "execute_result"
    }
   ],
   "execution_count": 6
  },
  {
   "metadata": {
    "ExecuteTime": {
     "end_time": "2025-01-08T01:26:09.141570Z",
     "start_time": "2025-01-08T01:14:36.343722Z"
    }
   },
   "cell_type": "code",
   "source": [
    "def get_job_indeed_description():\n",
    "        global job_indeed_description_list\n",
    "        job_indeed_description_list = []\n",
    "        for _, job_indeed_url in enumerate(search_job_indeed_final_list_filter):\n",
    "            driver.get(job_indeed_url)\n",
    "            time.sleep(6)\n",
    "            try:\n",
    "                    company = driver.find_element(By.XPATH, '//div[@data-testid=\"jobsearch-CompanyInfoContainer\"]/div/div/div/div/div[1]/span/a').text\n",
    "                    time.sleep(3)\n",
    "                    sub_company = driver.find_element(By.XPATH, '//div[@data-testid=\"jobsearch-CompanyInfoContainer\"]/div/div/div/div/div[2]/span').text\n",
    "                    time.sleep(3)\n",
    "                    if len(re.findall(r'\\b\\d+\\.\\d+\\b', sub_company)) > 0:\n",
    "                        total_company = company\n",
    "                    else:\n",
    "                        total_company = company + ' ' + sub_company\n",
    "                    time.sleep(3)\n",
    "            except:\n",
    "                    try:\n",
    "                            time.sleep(3)\n",
    "                            total_company = driver.find_element(By.XPATH, '//div[@data-testid=\"jobsearch-CompanyInfoContainer\"]/div/div/div/div/div[1]/span/a').text\n",
    "                            time.sleep(3)\n",
    "                    except:\n",
    "                            try:\n",
    "                                    time.sleep(3)\n",
    "                                    total_company = driver.find_element(By.XPATH, '//div[@data-testid=\"jobsearch-CompanyInfoContainer\"]/div/div/div/div/div[1]/span').text\n",
    "                                    time.sleep(3)\n",
    "                            except:\n",
    "                                    try:\n",
    "                                            time.sleep(3)\n",
    "                                            total_company = driver.find_element(By.XPATH, '//div[starts-with(@class, \"jobsearch-InfoHeaderContainer\")]/div/div/h2').text\n",
    "                                            time.sleep(3)\n",
    "                                    except:\n",
    "                                            try:\n",
    "                                                    time.sleep(3)\n",
    "                                                    total_company = driver.find_element(By.XPATH, '//div[starts-with(@class, \"jobsearch-InfoHeaderContainer\")]/div/div/h2').text\n",
    "                                                    time.sleep(3)\n",
    "                                            except:\n",
    "                                                    time.sleep(3)\n",
    "                                                    total_company = ''\n",
    "                                                    time.sleep(3)\n",
    "            try:\n",
    "                    header = driver.find_element(By.XPATH, '//div[starts-with(@class,\"jobsearch-JobInfoHeader-title-container\")]/h1/span').text\n",
    "                    time.sleep(3)\n",
    "            except:\n",
    "                    try:\n",
    "                            time.sleep(3)\n",
    "                            header = driver.find_element(By.XPATH, '//div[starts-with(@class, \"jobsearch-InfoHeaderContainer\")]/div/div/div/span').text\n",
    "                            time.sleep(3)\n",
    "                    except:\n",
    "                            time.sleep(3)\n",
    "                            header = ''\n",
    "                            time.sleep(3)\n",
    "            try:\n",
    "                    location = driver.find_element(By.XPATH, '//div[@data-testid=\"jobsearch-CompanyInfoContainer\"]/div/div/div/div[2]/div').text\n",
    "                    time.sleep(3)\n",
    "            except:\n",
    "                    try:\n",
    "                            time.sleep(3)\n",
    "                            location = driver.find_element(By.XPATH, '//div[starts-with(@class, \"jobsearch-InfoHeaderContainer\")]/div/div/div/div[2]/div').text\n",
    "                            time.sleep(3)\n",
    "                    except:\n",
    "                            try:\n",
    "                                time.sleep(3)\n",
    "                                location = driver.find_element(By.XPATH, '//div[starts-with(@class, \"jobsearch-InfoHeaderContainer\")]/div/div[2]/div/div/div/div[2]/div').text\n",
    "                                time.sleep(3)\n",
    "                            except:\n",
    "                                    time.sleep(3)\n",
    "                                    location = ''\n",
    "                                    time.sleep(3)\n",
    "            try:\n",
    "                soup = BeautifulSoup(driver.page_source, 'lxml')\n",
    "                time.sleep(3)\n",
    "                script_context = soup.find_all('script', string=re.compile(r'@context'))[0].getText().strip()\n",
    "                time.sleep(3)\n",
    "                standard_date_posted = re.search(r'\\\"datePosted\\\":\\\"([^\"]+)\\\"', script_context).group(1)\n",
    "                time.sleep(3)\n",
    "                readable_date_posted = pendulum.parse(standard_date_posted, tz='Asia/Ho_Chi_Minh').to_datetime_string()\n",
    "                time.sleep(3)\n",
    "            except:\n",
    "                try:\n",
    "                    soup = BeautifulSoup(driver.page_source, 'lxml')\n",
    "                    time.sleep(3)\n",
    "                    script_initial_data = soup.find_all('script', string=re.compile(r'window._initialData'))[0].getText().strip()\n",
    "                    time.sleep(3)\n",
    "                    standard_date_posted = re.search(r'\\\"datePublished\\\":(\\d+)', script_initial_data).group(1)\n",
    "                    time.sleep(3)\n",
    "                    readable_date_posted = pendulum.from_timestamp(int(standard_date_posted) / 1000, tz='Asia/Ho_Chi_Minh').to_datetime_string()\n",
    "                    time.sleep(3)\n",
    "                except:\n",
    "                        time.sleep(3)\n",
    "                        readable_date_posted = ''\n",
    "                        time.sleep(3)\n",
    "            try:\n",
    "                soup = BeautifulSoup(driver.page_source, 'lxml')\n",
    "                time.sleep(3)\n",
    "                script_initial_data = soup.find_all('script', string=re.compile(r'window._initialData'))[0].getText().strip()\n",
    "                time.sleep(3)\n",
    "                salary = re.search(r'\\\"salaryText\\\":\\\"([^\"]+)\\\"', script_initial_data).group(1)\n",
    "                time.sleep(3)\n",
    "            except:\n",
    "                    time.sleep(3)\n",
    "                    salary = ''\n",
    "                    time.sleep(3)\n",
    "            job_indeed_description_list.append((job_indeed_url, total_company, header, salary, location, readable_date_posted))\n",
    "            yield total_company, header, location, readable_date_posted, salary\n",
    "generators = get_job_indeed_description()\n",
    "for generator in generators:\n",
    "    print(generator)"
   ],
   "id": "a5ee7a0298e367d6",
   "outputs": [
    {
     "name": "stdout",
     "output_type": "stream",
     "text": [
      "('Mantu', 'Financial Data Analyst - F/M/X', 'Thành phố Hồ Chí Minh', '2025-01-06 10:26:51', '')\n",
      "('Công ty TNHH Esuhai', 'Chuyên viên phân tích dữ liệu - Data analyst', 'Thành phố Hồ Chí Minh', '2022-02-24 10:11:01', '')\n",
      "('Wolf Solutions', 'Data Analyst Intern', 'Thành phố Hồ Chí Minh', '2022-09-30 07:49:39', '')\n",
      "('LEGO', 'Manufacturing Data Analyst', 'Bình Dương', '2025-01-07 07:27:56', '')\n",
      "('Concung.com', 'Data Analyst - Business Intelligence', 'Thành phố Hồ Chí Minh', '2024-12-23 22:12:48', '')\n",
      "('LARION Consulting & Software Development Joint Stock Company', 'Business Analyst Intern', 'Thành phố Hồ Chí Minh', '2024-11-14 07:28:53', '1,000,000 VNĐ - 3,000,000 VNĐ a month')\n",
      "('Chứng Khoán Thiên Việt', 'DATA ANALYST – DATA TEAM', 'Thành phố Hồ Chí Minh', '2023-06-29 14:28:25', '')\n",
      "('VNG', 'Associate Data Analyst, Zalopay', 'Thành phố Hồ Chí Minh', '2024-08-19 10:03:21', '')\n",
      "('Công TY TNHH Un - Available', 'Data Analytics Intern', 'Thành phố Hồ Chí Minh', '2025-01-04 13:41:52', '')\n",
      "('LEGO', 'Business Analyst', 'Bình Dương', '2025-01-06 13:27:59', '')\n",
      "('VeXeRe', 'HCM – Data Analyst Intern', 'Thành phố Hồ Chí Minh', '2024-11-26 17:12:47', '')\n",
      "('Avery Dennison', 'Data Analyst', 'Thành phố Hồ Chí Minh', '2023-11-17 22:17:22', '')\n",
      "('Customized Energy Solutions', 'Data Operations Analyst – Retail Market Services - HCMC', 'Thành phố Hồ Chí Minh', '2024-10-19 14:42:04', '')\n",
      "('Công Ty TNHH ELSA', 'Business Intelligence (Data Analyst)', 'Thành phố Hồ Chí Minh', '2024-12-20 01:42:22', '')\n",
      "('wolf consulting', 'Data Analyst Intern', 'Thành phố Hồ Chí Minh', '2024-06-07 08:56:01', '')\n"
     ]
    }
   ],
   "execution_count": 20
  },
  {
   "metadata": {
    "ExecuteTime": {
     "end_time": "2025-01-08T01:26:09.295007Z",
     "start_time": "2025-01-08T01:26:09.288682Z"
    }
   },
   "cell_type": "code",
   "source": "len(job_indeed_description_list)",
   "id": "a4390f179d839de4",
   "outputs": [
    {
     "data": {
      "text/plain": [
       "15"
      ]
     },
     "execution_count": 21,
     "metadata": {},
     "output_type": "execute_result"
    }
   ],
   "execution_count": 21
  },
  {
   "metadata": {
    "ExecuteTime": {
     "end_time": "2025-01-08T02:34:05.548197Z",
     "start_time": "2025-01-08T02:34:02.976209Z"
    }
   },
   "cell_type": "code",
   "source": [
    "from googleapiclient.discovery import build\n",
    "from googleapiclient.errors import HttpError\n",
    "from google.oauth2 import service_account\n",
    "import pandas as pd\n",
    "\n",
    "credentials = service_account.Credentials.from_service_account_file('credentials.json')\n",
    "spreadsheet_service = build('sheets', 'v4', credentials=credentials)\n",
    "\n",
    "SPREADSHEET_ID = '1F75bELM8_nYQvFBVqReVUZYcPGuuELIa4nh9MJoS9Tg'\n",
    "RANGE_NAME = 'Sheet1'\n",
    "sheet = spreadsheet_service.spreadsheets()\n",
    "result = sheet.values().get(spreadsheetId=SPREADSHEET_ID, range=RANGE_NAME).execute()\n",
    "values = result.get('values', [])\n",
    "max_cols = max(len(row) for row in values)\n",
    "values = [row + [''] * (max_cols - len(row)) for row in values]\n",
    "df = pd.DataFrame(values[1:], columns=values[0])\n",
    "df = df.fillna('')"
   ],
   "id": "aab379cf81ef9b1b",
   "outputs": [],
   "execution_count": 24
  },
  {
   "metadata": {
    "ExecuteTime": {
     "end_time": "2025-01-08T02:36:33.068541Z",
     "start_time": "2025-01-08T02:36:33.057112Z"
    }
   },
   "cell_type": "code",
   "source": [
    "df1 = pd.DataFrame(job_indeed_description_list, columns=df.columns).__deepcopy__()\n",
    "df1"
   ],
   "id": "982272decfbf3da0",
   "outputs": [
    {
     "data": {
      "text/plain": [
       "                                                 Link  \\\n",
       "0   https://vn.indeed.com/rc/clk?jk=dc0463742d6a8b...   \n",
       "1   https://vn.indeed.com/rc/clk?jk=ef6e87670a5b5c...   \n",
       "2   https://vn.indeed.com/rc/clk?jk=3178766f214cc3...   \n",
       "3   https://vn.indeed.com/rc/clk?jk=3e45f07d403c59...   \n",
       "4   https://vn.indeed.com/rc/clk?jk=0650c2efd27fc0...   \n",
       "5   https://vn.indeed.com/rc/clk?jk=ded399353790bb...   \n",
       "6   https://vn.indeed.com/rc/clk?jk=18b09bde8afda6...   \n",
       "7   https://vn.indeed.com/rc/clk?jk=2f9bfb933381a3...   \n",
       "8   https://vn.indeed.com/rc/clk?jk=b8592fed541177...   \n",
       "9   https://vn.indeed.com/rc/clk?jk=8643b1e068402c...   \n",
       "10  https://vn.indeed.com/rc/clk?jk=29ca84ee37db34...   \n",
       "11  https://vn.indeed.com/rc/clk?jk=c5a9ac5b18ff2a...   \n",
       "12  https://vn.indeed.com/rc/clk?jk=46f34aeca29608...   \n",
       "13  https://vn.indeed.com/rc/clk?jk=fe68e8b6867283...   \n",
       "14  https://vn.indeed.com/rc/clk?jk=c94f7b03b2a412...   \n",
       "\n",
       "                                              Company  \\\n",
       "0                                               Mantu   \n",
       "1                                 Công ty TNHH Esuhai   \n",
       "2                                      Wolf Solutions   \n",
       "3                                                LEGO   \n",
       "4                                         Concung.com   \n",
       "5   LARION Consulting & Software Development Joint...   \n",
       "6                              Chứng Khoán Thiên Việt   \n",
       "7                                                 VNG   \n",
       "8                         Công TY TNHH Un - Available   \n",
       "9                                                LEGO   \n",
       "10                                             VeXeRe   \n",
       "11                                     Avery Dennison   \n",
       "12                        Customized Energy Solutions   \n",
       "13                                  Công Ty TNHH ELSA   \n",
       "14                                    wolf consulting   \n",
       "\n",
       "                                                Title  \\\n",
       "0                      Financial Data Analyst - F/M/X   \n",
       "1        Chuyên viên phân tích dữ liệu - Data analyst   \n",
       "2                                 Data Analyst Intern   \n",
       "3                          Manufacturing Data Analyst   \n",
       "4                Data Analyst - Business Intelligence   \n",
       "5                             Business Analyst Intern   \n",
       "6                            DATA ANALYST – DATA TEAM   \n",
       "7                     Associate Data Analyst, Zalopay   \n",
       "8                               Data Analytics Intern   \n",
       "9                                    Business Analyst   \n",
       "10                          HCM – Data Analyst Intern   \n",
       "11                                       Data Analyst   \n",
       "12  Data Operations Analyst – Retail Market Servic...   \n",
       "13               Business Intelligence (Data Analyst)   \n",
       "14                                Data Analyst Intern   \n",
       "\n",
       "                                   Salary               Location  \\\n",
       "0                                          Thành phố Hồ Chí Minh   \n",
       "1                                          Thành phố Hồ Chí Minh   \n",
       "2                                          Thành phố Hồ Chí Minh   \n",
       "3                                                     Bình Dương   \n",
       "4                                          Thành phố Hồ Chí Minh   \n",
       "5   1,000,000 VNĐ - 3,000,000 VNĐ a month  Thành phố Hồ Chí Minh   \n",
       "6                                          Thành phố Hồ Chí Minh   \n",
       "7                                          Thành phố Hồ Chí Minh   \n",
       "8                                          Thành phố Hồ Chí Minh   \n",
       "9                                                     Bình Dương   \n",
       "10                                         Thành phố Hồ Chí Minh   \n",
       "11                                         Thành phố Hồ Chí Minh   \n",
       "12                                         Thành phố Hồ Chí Minh   \n",
       "13                                         Thành phố Hồ Chí Minh   \n",
       "14                                         Thành phố Hồ Chí Minh   \n",
       "\n",
       "            Date posted  \n",
       "0   2025-01-06 10:26:51  \n",
       "1   2022-02-24 10:11:01  \n",
       "2   2022-09-30 07:49:39  \n",
       "3   2025-01-07 07:27:56  \n",
       "4   2024-12-23 22:12:48  \n",
       "5   2024-11-14 07:28:53  \n",
       "6   2023-06-29 14:28:25  \n",
       "7   2024-08-19 10:03:21  \n",
       "8   2025-01-04 13:41:52  \n",
       "9   2025-01-06 13:27:59  \n",
       "10  2024-11-26 17:12:47  \n",
       "11  2023-11-17 22:17:22  \n",
       "12  2024-10-19 14:42:04  \n",
       "13  2024-12-20 01:42:22  \n",
       "14  2024-06-07 08:56:01  "
      ],
      "text/html": [
       "<div>\n",
       "<style scoped>\n",
       "    .dataframe tbody tr th:only-of-type {\n",
       "        vertical-align: middle;\n",
       "    }\n",
       "\n",
       "    .dataframe tbody tr th {\n",
       "        vertical-align: top;\n",
       "    }\n",
       "\n",
       "    .dataframe thead th {\n",
       "        text-align: right;\n",
       "    }\n",
       "</style>\n",
       "<table border=\"1\" class=\"dataframe\">\n",
       "  <thead>\n",
       "    <tr style=\"text-align: right;\">\n",
       "      <th></th>\n",
       "      <th>Link</th>\n",
       "      <th>Company</th>\n",
       "      <th>Title</th>\n",
       "      <th>Salary</th>\n",
       "      <th>Location</th>\n",
       "      <th>Date posted</th>\n",
       "    </tr>\n",
       "  </thead>\n",
       "  <tbody>\n",
       "    <tr>\n",
       "      <th>0</th>\n",
       "      <td>https://vn.indeed.com/rc/clk?jk=dc0463742d6a8b...</td>\n",
       "      <td>Mantu</td>\n",
       "      <td>Financial Data Analyst - F/M/X</td>\n",
       "      <td></td>\n",
       "      <td>Thành phố Hồ Chí Minh</td>\n",
       "      <td>2025-01-06 10:26:51</td>\n",
       "    </tr>\n",
       "    <tr>\n",
       "      <th>1</th>\n",
       "      <td>https://vn.indeed.com/rc/clk?jk=ef6e87670a5b5c...</td>\n",
       "      <td>Công ty TNHH Esuhai</td>\n",
       "      <td>Chuyên viên phân tích dữ liệu - Data analyst</td>\n",
       "      <td></td>\n",
       "      <td>Thành phố Hồ Chí Minh</td>\n",
       "      <td>2022-02-24 10:11:01</td>\n",
       "    </tr>\n",
       "    <tr>\n",
       "      <th>2</th>\n",
       "      <td>https://vn.indeed.com/rc/clk?jk=3178766f214cc3...</td>\n",
       "      <td>Wolf Solutions</td>\n",
       "      <td>Data Analyst Intern</td>\n",
       "      <td></td>\n",
       "      <td>Thành phố Hồ Chí Minh</td>\n",
       "      <td>2022-09-30 07:49:39</td>\n",
       "    </tr>\n",
       "    <tr>\n",
       "      <th>3</th>\n",
       "      <td>https://vn.indeed.com/rc/clk?jk=3e45f07d403c59...</td>\n",
       "      <td>LEGO</td>\n",
       "      <td>Manufacturing Data Analyst</td>\n",
       "      <td></td>\n",
       "      <td>Bình Dương</td>\n",
       "      <td>2025-01-07 07:27:56</td>\n",
       "    </tr>\n",
       "    <tr>\n",
       "      <th>4</th>\n",
       "      <td>https://vn.indeed.com/rc/clk?jk=0650c2efd27fc0...</td>\n",
       "      <td>Concung.com</td>\n",
       "      <td>Data Analyst - Business Intelligence</td>\n",
       "      <td></td>\n",
       "      <td>Thành phố Hồ Chí Minh</td>\n",
       "      <td>2024-12-23 22:12:48</td>\n",
       "    </tr>\n",
       "    <tr>\n",
       "      <th>5</th>\n",
       "      <td>https://vn.indeed.com/rc/clk?jk=ded399353790bb...</td>\n",
       "      <td>LARION Consulting &amp; Software Development Joint...</td>\n",
       "      <td>Business Analyst Intern</td>\n",
       "      <td>1,000,000 VNĐ - 3,000,000 VNĐ a month</td>\n",
       "      <td>Thành phố Hồ Chí Minh</td>\n",
       "      <td>2024-11-14 07:28:53</td>\n",
       "    </tr>\n",
       "    <tr>\n",
       "      <th>6</th>\n",
       "      <td>https://vn.indeed.com/rc/clk?jk=18b09bde8afda6...</td>\n",
       "      <td>Chứng Khoán Thiên Việt</td>\n",
       "      <td>DATA ANALYST – DATA TEAM</td>\n",
       "      <td></td>\n",
       "      <td>Thành phố Hồ Chí Minh</td>\n",
       "      <td>2023-06-29 14:28:25</td>\n",
       "    </tr>\n",
       "    <tr>\n",
       "      <th>7</th>\n",
       "      <td>https://vn.indeed.com/rc/clk?jk=2f9bfb933381a3...</td>\n",
       "      <td>VNG</td>\n",
       "      <td>Associate Data Analyst, Zalopay</td>\n",
       "      <td></td>\n",
       "      <td>Thành phố Hồ Chí Minh</td>\n",
       "      <td>2024-08-19 10:03:21</td>\n",
       "    </tr>\n",
       "    <tr>\n",
       "      <th>8</th>\n",
       "      <td>https://vn.indeed.com/rc/clk?jk=b8592fed541177...</td>\n",
       "      <td>Công TY TNHH Un - Available</td>\n",
       "      <td>Data Analytics Intern</td>\n",
       "      <td></td>\n",
       "      <td>Thành phố Hồ Chí Minh</td>\n",
       "      <td>2025-01-04 13:41:52</td>\n",
       "    </tr>\n",
       "    <tr>\n",
       "      <th>9</th>\n",
       "      <td>https://vn.indeed.com/rc/clk?jk=8643b1e068402c...</td>\n",
       "      <td>LEGO</td>\n",
       "      <td>Business Analyst</td>\n",
       "      <td></td>\n",
       "      <td>Bình Dương</td>\n",
       "      <td>2025-01-06 13:27:59</td>\n",
       "    </tr>\n",
       "    <tr>\n",
       "      <th>10</th>\n",
       "      <td>https://vn.indeed.com/rc/clk?jk=29ca84ee37db34...</td>\n",
       "      <td>VeXeRe</td>\n",
       "      <td>HCM – Data Analyst Intern</td>\n",
       "      <td></td>\n",
       "      <td>Thành phố Hồ Chí Minh</td>\n",
       "      <td>2024-11-26 17:12:47</td>\n",
       "    </tr>\n",
       "    <tr>\n",
       "      <th>11</th>\n",
       "      <td>https://vn.indeed.com/rc/clk?jk=c5a9ac5b18ff2a...</td>\n",
       "      <td>Avery Dennison</td>\n",
       "      <td>Data Analyst</td>\n",
       "      <td></td>\n",
       "      <td>Thành phố Hồ Chí Minh</td>\n",
       "      <td>2023-11-17 22:17:22</td>\n",
       "    </tr>\n",
       "    <tr>\n",
       "      <th>12</th>\n",
       "      <td>https://vn.indeed.com/rc/clk?jk=46f34aeca29608...</td>\n",
       "      <td>Customized Energy Solutions</td>\n",
       "      <td>Data Operations Analyst – Retail Market Servic...</td>\n",
       "      <td></td>\n",
       "      <td>Thành phố Hồ Chí Minh</td>\n",
       "      <td>2024-10-19 14:42:04</td>\n",
       "    </tr>\n",
       "    <tr>\n",
       "      <th>13</th>\n",
       "      <td>https://vn.indeed.com/rc/clk?jk=fe68e8b6867283...</td>\n",
       "      <td>Công Ty TNHH ELSA</td>\n",
       "      <td>Business Intelligence (Data Analyst)</td>\n",
       "      <td></td>\n",
       "      <td>Thành phố Hồ Chí Minh</td>\n",
       "      <td>2024-12-20 01:42:22</td>\n",
       "    </tr>\n",
       "    <tr>\n",
       "      <th>14</th>\n",
       "      <td>https://vn.indeed.com/rc/clk?jk=c94f7b03b2a412...</td>\n",
       "      <td>wolf consulting</td>\n",
       "      <td>Data Analyst Intern</td>\n",
       "      <td></td>\n",
       "      <td>Thành phố Hồ Chí Minh</td>\n",
       "      <td>2024-06-07 08:56:01</td>\n",
       "    </tr>\n",
       "  </tbody>\n",
       "</table>\n",
       "</div>"
      ]
     },
     "execution_count": 26,
     "metadata": {},
     "output_type": "execute_result"
    }
   ],
   "execution_count": 26
  },
  {
   "metadata": {
    "ExecuteTime": {
     "end_time": "2025-01-08T04:08:55.782353Z",
     "start_time": "2025-01-08T04:08:55.770257Z"
    }
   },
   "cell_type": "code",
   "source": "re.findall(r'(\\d+\\,?\\d*)', df1.at[5, 'Salary'])",
   "id": "47a4faa063067470",
   "outputs": [
    {
     "data": {
      "text/plain": [
       "['1,000', '000', '3,000', '000']"
      ]
     },
     "execution_count": 154,
     "metadata": {},
     "output_type": "execute_result"
    }
   ],
   "execution_count": 154
  },
  {
   "metadata": {
    "ExecuteTime": {
     "end_time": "2025-01-08T03:49:13.735067Z",
     "start_time": "2025-01-08T03:49:13.722167Z"
    }
   },
   "cell_type": "code",
   "source": [
    "def implement_salary_filter():\n",
    "    global implement_filter_list\n",
    "    implement_filter_list = []\n",
    "    salary_filter_tuple = (salary_filter.split(' ')[0], salary_filter.split(' ')[1], salary_filter.split(' ')[2])\n",
    "    for index, row in df1.iterrows():\n",
    "        if op.contains(df1.at[index, 'Salary'], salary_filter_tuple[1]) and op.contains(df1.at[index, 'Salary'], salary_filter_tuple[2]):\n",
    "            implement_filter_list.append((row[df1.columns[0]], row[df1.columns[1]], row[df1.columns[2]], row[df1.columns[3]], row[df1.columns[4]], row[df1.columns[5]]))\n",
    "            yield from implement_filter_list\n",
    "salary_generators = implement_salary_filter()\n",
    "for generator in salary_generators:\n",
    "    print(generator)"
   ],
   "id": "2caa9b6698ede848",
   "outputs": [
    {
     "name": "stdout",
     "output_type": "stream",
     "text": [
      "('https://vn.indeed.com/rc/clk?jk=ded399353790bb22&bb=h5wsJqunwfLSrt-SgmHrAxTzERMIzt4Ftij6M-PbUa2DuHbdhSbHNPaJsL0NOTKO-iI2SlD7MQQ7rEzhbUdxf61A3usntt67vXLAQU4IY1vgG0hocqxC3w6Gsqt7S-18&xkcb=SoDZ67M33hirZ_wE6B0MbzkdCdPP&fccid=7bc0d9afbff1dc25&cmp=LARION&ti=Business+Intern&vjs=3', 'LARION Consulting & Software Development Joint Stock Company', 'Business Analyst Intern', '1,000,000 VNĐ - 3,000,000 VNĐ a month', 'Thành phố Hồ Chí Minh', '2024-11-14 07:28:53')\n"
     ]
    }
   ],
   "execution_count": 118
  }
 ],
 "metadata": {
  "kernelspec": {
   "display_name": "Python 3",
   "language": "python",
   "name": "python3"
  },
  "language_info": {
   "codemirror_mode": {
    "name": "ipython",
    "version": 2
   },
   "file_extension": ".py",
   "mimetype": "text/x-python",
   "name": "python",
   "nbconvert_exporter": "python",
   "pygments_lexer": "ipython2",
   "version": "2.7.6"
  }
 },
 "nbformat": 4,
 "nbformat_minor": 5
}
